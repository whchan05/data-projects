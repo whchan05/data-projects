{
 "cells": [
  {
   "cell_type": "markdown",
   "metadata": {},
   "source": [
    "#### Intro\n",
    "\n",
    "<div style=\"font-size: 14px\">\n",
    "I am a coffee drinker. Usually I source my beans from a local roastery, The Coffee Company. In this notebook, I would like to find out which coffee I am likely to be interested in, with the help of data science!\n",
    "</div>\n",
    "<br>\n",
    "<div style=\"font-size: 14px\">\n",
    "To start off, I will import some tools to scrap product description from their website. I plan to visually cluster the products that are similar with T-SNE.\n",
    "</div>\n",
    "<br>\n",
    "<img src=\"https://i.imgur.com/M4spH5e.png\" height=757 width=1200>"
   ]
  },
  {
   "cell_type": "code",
   "execution_count": 75,
   "metadata": {},
   "outputs": [],
   "source": [
    "# First, we need to scrap our data from the retailer\n",
    "\n",
    "import numpy as np\n",
    "import pandas as pd\n",
    "from bs4 import BeautifulSoup\n",
    "import requests \n",
    "import re\n",
    "from nltk.corpus import stopwords\n",
    "\n",
    "# Create lists to store product descriptions, union of product descriptions, product names, product roast levels and product prices\n",
    "corpus, complete_list, prod_names, prod_roast, prod_price = ([] for _ in range(5))\n",
    "\n",
    "# Roast levels as classified by the retailer\n",
    "roast_levels=['light','medium','dark','extra-dark']\n",
    "for roast_level in roast_levels: \n",
    "    url = 'https://coffeecompany.com.au/collections/coffee/'+roast_level\n",
    "    web = requests.get(url)\n",
    "    doc = BeautifulSoup(web.text, 'html.parser')\n",
    "    hrefs = doc.find_all('a', href = re.compile('/collections/coffee/products'))\n",
    "    product_pages = list(set([href['href'] for href in hrefs]))\n",
    "    for product_page in product_pages:\n",
    "        url = 'https://coffeecompany.com.au'+product_page\n",
    "        web = requests.get(url)\n",
    "        prod_name = product_page.split('/')[-1]\n",
    "        prod_names.append(prod_name)\n",
    "        prod_roast.append(roast_level)\n",
    "        prod_page = BeautifulSoup(web.text, 'html.parser')\n",
    "        # The variable words stores the text in the description space\n",
    "        words = prod_page.find('div', class_ = 'description').text.split(' ')\n",
    "        price = prod_page.find('span', class_ = re.compile('price-item')).text\n",
    "        # After removing non-alphanumeric characters, only feed keywords into the model if the keyword is not a pre-defined stopword\n",
    "        comments = [key for word in words if (key:= ''.join([ch for ch in word if ch.isalnum()]).lower()) not in stopwords.words('english')]\n",
    "        prod_price.append(price)\n",
    "        # Roast level is included as part of the corpus, as it may not be brought up in the product description\n",
    "        corpus.append(comments+[roast_level])\n",
    "        complete_list.extend(comments+[roast_level])"
   ]
  },
  {
   "cell_type": "code",
   "execution_count": 76,
   "metadata": {},
   "outputs": [],
   "source": [
    "# Preprocessing is needed as TSNE can only recognize numeric inputs\n",
    "\n",
    "from nltk.stem import PorterStemmer\n",
    "\n",
    "# Linguistically, words like balance and balanced mean the same thing.\n",
    "# Stemming can help computer to understand two beans are balanced even if they are described differently\n",
    "ps = PorterStemmer()\n",
    "complete_list_stemmed = [ps.stem(word) for word in complete_list]\n",
    "comment_dedup = list(set(complete_list_stemmed))\n",
    "# Create a dictionary that stores the assigned index for keywords\n",
    "comment_idx = {comment_dedup[i]: i for i in range(len(comment_dedup))}\n",
    "# Do the same for corpus\n",
    "corpus_stemmed = [[ps.stem(keyword) for keyword in des] for des in corpus]\n",
    "# Create a numpy array that shows 1 if a keyword is present and 0 otherwise\n",
    "# max(i) is number of products, max(j) is number of unique keywords present in the the pool of descriptions\n",
    "comment_dtm = np.array([[1 if comment_dedup[j] in corpus_stemmed[i] else 0\n",
    "                         for j in range(len(comment_dedup))] for i in range(len(corpus))])"
   ]
  },
  {
   "cell_type": "code",
   "execution_count": 81,
   "metadata": {},
   "outputs": [
    {
     "name": "stderr",
     "output_type": "stream",
     "text": [
      "c:\\Users\\Ricky\\AppData\\Local\\Programs\\Python\\Python310\\lib\\site-packages\\sklearn\\manifold\\_t_sne.py:991: FutureWarning:\n",
      "\n",
      "The PCA initialization in TSNE will change to have the standard deviation of PC1 equal to 1e-4 in 1.2. This will ensure better convergence.\n",
      "\n"
     ]
    },
    {
     "data": {
      "text/html": [
       "<div>\n",
       "<style scoped>\n",
       "    .dataframe tbody tr th:only-of-type {\n",
       "        vertical-align: middle;\n",
       "    }\n",
       "\n",
       "    .dataframe tbody tr th {\n",
       "        vertical-align: top;\n",
       "    }\n",
       "\n",
       "    .dataframe thead th {\n",
       "        text-align: right;\n",
       "    }\n",
       "</style>\n",
       "<table border=\"1\" class=\"dataframe\">\n",
       "  <thead>\n",
       "    <tr style=\"text-align: right;\">\n",
       "      <th></th>\n",
       "      <th>prod_names</th>\n",
       "      <th>roast_level</th>\n",
       "      <th>price</th>\n",
       "      <th>t-snex</th>\n",
       "      <th>t-sney</th>\n",
       "      <th>idx</th>\n",
       "    </tr>\n",
       "  </thead>\n",
       "  <tbody>\n",
       "    <tr>\n",
       "      <th>0</th>\n",
       "      <td>colombia</td>\n",
       "      <td>light</td>\n",
       "      <td>$34.00/Kg</td>\n",
       "      <td>-0.654891</td>\n",
       "      <td>-5.603013</td>\n",
       "      <td>0</td>\n",
       "    </tr>\n",
       "    <tr>\n",
       "      <th>1</th>\n",
       "      <td>ethiopian-yirgacheffe</td>\n",
       "      <td>light</td>\n",
       "      <td>$36.00/Kg</td>\n",
       "      <td>-1.195780</td>\n",
       "      <td>-5.572783</td>\n",
       "      <td>1</td>\n",
       "    </tr>\n",
       "    <tr>\n",
       "      <th>2</th>\n",
       "      <td>royal-special</td>\n",
       "      <td>light</td>\n",
       "      <td>$34.00/Kg</td>\n",
       "      <td>-0.707725</td>\n",
       "      <td>-5.471310</td>\n",
       "      <td>2</td>\n",
       "    </tr>\n",
       "    <tr>\n",
       "      <th>3</th>\n",
       "      <td>mara-deluxe</td>\n",
       "      <td>light</td>\n",
       "      <td>$36.00/Kg</td>\n",
       "      <td>-0.341155</td>\n",
       "      <td>-4.807180</td>\n",
       "      <td>3</td>\n",
       "    </tr>\n",
       "    <tr>\n",
       "      <th>4</th>\n",
       "      <td>brazil-santos_5</td>\n",
       "      <td>light</td>\n",
       "      <td>$34.00/Kg</td>\n",
       "      <td>0.191571</td>\n",
       "      <td>-4.159563</td>\n",
       "      <td>4</td>\n",
       "    </tr>\n",
       "  </tbody>\n",
       "</table>\n",
       "</div>"
      ],
      "text/plain": [
       "              prod_names roast_level      price    t-snex    t-sney  idx\n",
       "0               colombia       light  $34.00/Kg -0.654891 -5.603013    0\n",
       "1  ethiopian-yirgacheffe       light  $36.00/Kg -1.195780 -5.572783    1\n",
       "2          royal-special       light  $34.00/Kg -0.707725 -5.471310    2\n",
       "3            mara-deluxe       light  $36.00/Kg -0.341155 -4.807180    3\n",
       "4        brazil-santos_5       light  $34.00/Kg  0.191571 -4.159563    4"
      ]
     },
     "metadata": {},
     "output_type": "display_data"
    }
   ],
   "source": [
    "# Model fitting. While a 3d plot is pretty cool, it is very hard to judge which beans are actually similar\n",
    "\n",
    "from sklearn.manifold import TSNE\n",
    "model = TSNE(n_components = 2, perplexity = 40, init='pca', learning_rate = 'auto')\n",
    "tsne_coordinates = model.fit_transform(comment_dtm)\n",
    "\n",
    "df_coffee = pd.DataFrame({'prod_names':prod_names, 'roast_level':prod_roast,\n",
    "                        'price': prod_price, 't-snex':tsne_coordinates[:, 0],\n",
    "                         't-sney':tsne_coordinates[:, 1], 'idx': range(len(prod_names))})\n",
    "display(df_coffee.head())"
   ]
  },
  {
   "cell_type": "code",
   "execution_count": 82,
   "metadata": {},
   "outputs": [
    {
     "data": {
      "application/vnd.plotly.v1+json": {
       "config": {
        "plotlyServerURL": "https://plot.ly"
       },
       "data": [
        {
         "customdata": [
          [
           "colombia",
           "light",
           "$34.00/Kg"
          ],
          [
           "ethiopian-yirgacheffe",
           "light",
           "$36.00/Kg"
          ],
          [
           "royal-special",
           "light",
           "$34.00/Kg"
          ],
          [
           "mara-deluxe",
           "light",
           "$36.00/Kg"
          ],
          [
           "brazil-santos_5",
           "light",
           "$34.00/Kg"
          ]
         ],
         "hovertemplate": "roast_level=%{customdata[1]}<br>t-snex=%{x}<br>t-sney=%{y}<br>prod_names=%{customdata[0]}<br>price=%{customdata[2]}<extra></extra>",
         "legendgroup": "light",
         "marker": {
          "color": "#636efa",
          "symbol": "circle"
         },
         "mode": "markers",
         "name": "light",
         "orientation": "v",
         "showlegend": true,
         "type": "scatter",
         "x": [
          -0.654890775680542,
          -1.195779800415039,
          -0.707725465297699,
          -0.3411550521850586,
          0.19157055020332336
         ],
         "xaxis": "x",
         "y": [
          -5.603012561798096,
          -5.572783470153809,
          -5.471309661865234,
          -4.807180404663086,
          -4.159562587738037
         ],
         "yaxis": "y"
        },
        {
         "customdata": [
          [
           "ethiopian-sidamo",
           "medium",
           "$36.00/Kg"
          ],
          [
           "hazelnut",
           "medium",
           "$34.00/Kg"
          ],
          [
           "cafe-bar",
           "medium",
           "$34.00/Kg"
          ],
          [
           "balkan-blend-with-cardamom",
           "medium",
           "$37.00/Kg"
          ],
          [
           "balkan-blend",
           "medium",
           "$34.00/Kg"
          ],
          [
           "toffee",
           "medium",
           "$34.00/Kg"
          ],
          [
           "afro-indonesia-blend",
           "medium",
           "$36.00/Kg"
          ],
          [
           "french-vanilla",
           "medium",
           "$34.00/Kg"
          ],
          [
           "copy-of-ipanema-gourmet-rainforest-alliance",
           "medium",
           "$36.00/Kg"
          ],
          [
           "macadamia",
           "medium",
           "$34.00/Kg"
          ],
          [
           "honduras-rainforest-alliance",
           "medium",
           "$36.00/Kg"
          ],
          [
           "el-salvador-rainforest-alliance-unroasted",
           "medium",
           "$19.00/Kg"
          ],
          [
           "ipanema-gourmet-rainforest-alliance_9",
           "medium",
           "$36.00/Kg"
          ],
          [
           "swiss-chocolate",
           "medium",
           "$34.00/Kg"
          ],
          [
           "el-salvador-finca-el-molinito-rainforest-alliance",
           "medium",
           "$36.00/Kg"
          ],
          [
           "ipanema-rainforest-alliance-blend",
           "medium",
           "$36.00/Kg"
          ],
          [
           "deep-six-blend",
           "medium",
           "$36.00/Kg"
          ],
          [
           "java-express",
           "medium",
           "$36.00/Kg"
          ],
          [
           "guatemala-antigua",
           "medium",
           "$36.00/Kg"
          ],
          [
           "irish-cream",
           "medium",
           "$34.00/Kg"
          ]
         ],
         "hovertemplate": "roast_level=%{customdata[1]}<br>t-snex=%{x}<br>t-sney=%{y}<br>prod_names=%{customdata[0]}<br>price=%{customdata[2]}<extra></extra>",
         "legendgroup": "medium",
         "marker": {
          "color": "#EF553B",
          "symbol": "circle"
         },
         "mode": "markers",
         "name": "medium",
         "orientation": "v",
         "showlegend": true,
         "type": "scatter",
         "x": [
          -0.6592679619789124,
          0.22496600449085236,
          -0.2497764527797699,
          0.4986867606639862,
          0.31192919611930847,
          0.20004385709762573,
          -0.7673360705375671,
          0.22755227982997894,
          -0.8087374567985535,
          0.1971142590045929,
          0.9065629839897156,
          1.38154137134552,
          -0.3139320909976959,
          0.24372677505016327,
          0.9481820464134216,
          0.31802862882614136,
          -0.9943920373916626,
          -0.7543392181396484,
          0.8517290353775024,
          0.2423696219921112
         ],
         "xaxis": "x",
         "y": [
          -5.475090503692627,
          -4.907572269439697,
          -5.683674335479736,
          -3.6429061889648438,
          -3.837641716003418,
          -4.963355541229248,
          -5.48226261138916,
          -4.922816276550293,
          -4.404671669006348,
          -4.965784072875977,
          -5.2654924392700195,
          -4.893651485443115,
          -5.13236141204834,
          -4.87656307220459,
          -5.110017776489258,
          -5.696636199951172,
          -4.3372578620910645,
          -6.736867427825928,
          -4.880314826965332,
          -4.787320613861084
         ],
         "yaxis": "y"
        },
        {
         "customdata": [
          [
           "new-guinea-sigri-estate-peaberry",
           "dark",
           "$36.00/Kg"
          ],
          [
           "kaffe-kolosi",
           "dark",
           "$36.00/Kg"
          ],
          [
           "costa-rica",
           "dark",
           "$34.00/Kg"
          ],
          [
           "africa-coffee-flight-tasting-box",
           "dark",
           "$58.00"
          ],
          [
           "45-years-reserve-blend",
           "dark",
           "$36.00/Kg"
          ],
          [
           "espresso-royale",
           "dark",
           "$36.00/Kg"
          ],
          [
           "mocha-java",
           "dark",
           "$36.00/Kg"
          ],
          [
           "peru-mexican-organic",
           "dark",
           "$36.00/Kg"
          ],
          [
           "nicaraguan-corcasan-co-op-organic",
           "dark",
           "$36.00/Kg"
          ],
          [
           "south-america-coffee-flight-tasting-box",
           "dark",
           "$58.00"
          ],
          [
           "swiss-water-decaffeinated-espresso-blend",
           "dark",
           "$40.00/Kg"
          ],
          [
           "godfather-part-ii",
           "dark",
           "$36.00/Kg"
          ],
          [
           "panama-finca-casa-ruiz-estate-boquete",
           "dark",
           "$36.00/Kg"
          ],
          [
           "nicaraguan-santa-rosa-estate-rainforest-alliance",
           "dark",
           "$36.00/Kg"
          ],
          [
           "no-3-d-jimmah-peaberry-sidamo",
           "dark",
           "$36.00/Kg"
          ],
          [
           "super-java",
           "dark",
           "$36.00/Kg"
          ],
          [
           "indian-tiger-mountain",
           "dark",
           "$36.00/Kg"
          ],
          [
           "highland-blend",
           "dark",
           "$36.00/Kg"
          ],
          [
           "swiss-water-decaffeinated-mexican-organic",
           "dark",
           "$40.00/Kg"
          ],
          [
           "marcus-blend",
           "dark",
           "$36.00/Kg"
          ],
          [
           "mocha-kenya",
           "dark",
           "$36.00/Kg"
          ],
          [
           "new-guinea-purosa-a-organic",
           "dark",
           "$36.00/Kg"
          ],
          [
           "godfather",
           "dark",
           "$36.00/Kg"
          ],
          [
           "ipanema-espresso-rainforest-alliance",
           "dark",
           "$36.00/Kg"
          ],
          [
           "organic-espresso",
           "dark",
           "$36.00/Kg"
          ],
          [
           "south-east-asia-coffee-flight-tasting-box",
           "dark",
           "$58.00"
          ],
          [
           "east-timor-maubisse-organic_10",
           "dark",
           "$36.00/Kg"
          ],
          [
           "uganda-okoro-white-nile-organic",
           "dark",
           "$36.00/Kg"
          ],
          [
           "vietnam-robusta",
           "dark",
           "$34.00/Kg"
          ],
          [
           "mexican-fiech-co-op-organic_7",
           "dark",
           "$36.00/Kg"
          ],
          [
           "peru-timor-organic",
           "dark",
           "$36.00/Kg"
          ],
          [
           "karamel-tiger",
           "dark",
           "$36.00/Kg"
          ],
          [
           "brazil-rio-verde-estate-rainforest-alliance-yellow-bourbon",
           "dark",
           "$36.00/Kg"
          ],
          [
           "swiss-water-decaffeinated-peru-organic-rainforest-alliance",
           "dark",
           "$40.00/Kg"
          ],
          [
           "alexs-blend",
           "dark",
           "$36.00/Kg"
          ],
          [
           "nicaraguan-ipanema-espresso-rainforst-alliance-blend",
           "dark",
           "$36.00/Kg"
          ],
          [
           "hungarian-blend",
           "dark",
           "$36.00/Kg"
          ],
          [
           "mocha-mocha",
           "dark",
           "$34.00/Kg"
          ],
          [
           "caffe-ole",
           "dark",
           "$34.00/Kg"
          ],
          [
           "kenya-aa_4",
           "dark",
           "$36.00/Kg"
          ],
          [
           "d-jimmah-peaberry",
           "dark",
           "$36.00/Kg"
          ],
          [
           "50th-birthday-organic-blend",
           "dark",
           "$36.00/Kg"
          ]
         ],
         "hovertemplate": "roast_level=%{customdata[1]}<br>t-snex=%{x}<br>t-sney=%{y}<br>prod_names=%{customdata[0]}<br>price=%{customdata[2]}<extra></extra>",
         "legendgroup": "dark",
         "marker": {
          "color": "#00cc96",
          "symbol": "circle"
         },
         "mode": "markers",
         "name": "dark",
         "orientation": "v",
         "showlegend": true,
         "type": "scatter",
         "x": [
          -1.5917319059371948,
          -0.2393667995929718,
          -0.46658313274383545,
          -1.8530384302139282,
          -0.4563690721988678,
          -0.16195279359817505,
          0.10860107839107513,
          0.14549823105335236,
          -0.015930790454149246,
          2.0650579929351807,
          0.6697455644607544,
          -0.9612396955490112,
          -0.12268618494272232,
          1.0982067584991455,
          2.081291675567627,
          0.3521401286125183,
          -2.01908016204834,
          1.0274931192398071,
          0.6693465113639832,
          1.4716278314590454,
          -0.5327507257461548,
          0.6532547473907471,
          0.009283439256250858,
          0.47873780131340027,
          0.1215813085436821,
          -1.8373005390167236,
          1.5027239322662354,
          -0.7162115573883057,
          -0.07084017246961594,
          0.341729998588562,
          1.4239612817764282,
          1.7978185415267944,
          -1.0597339868545532,
          0.9630067944526672,
          1.7413183450698853,
          0.566185474395752,
          -0.9589337110519409,
          0.010455076582729816,
          0.08070498704910278,
          -1.4125924110412598,
          0.8555558323860168,
          0.9161890745162964
         ],
         "xaxis": "x",
         "y": [
          -5.598202228546143,
          -6.39231538772583,
          -6.089807033538818,
          -6.684088706970215,
          -3.994170904159546,
          -6.698754787445068,
          -6.630066394805908,
          -6.964803695678711,
          -6.298048973083496,
          -6.467632293701172,
          -6.354800224304199,
          -7.7433953285217285,
          -5.985498428344727,
          -5.868040561676025,
          -6.0026702880859375,
          -7.178169250488281,
          -4.9605712890625,
          -7.230595588684082,
          -6.233460903167725,
          -6.949496746063232,
          -6.486405372619629,
          -6.09051513671875,
          -7.855627059936523,
          -5.87598991394043,
          -6.539547920227051,
          -6.768226146697998,
          -5.893762588500977,
          -5.902322292327881,
          -6.020748138427734,
          -6.235565185546875,
          -6.391993522644043,
          -5.189233779907227,
          -4.802933692932129,
          -6.34813117980957,
          -7.281605243682861,
          -6.37085485458374,
          -6.661219596862793,
          -6.986844539642334,
          -6.161212921142578,
          -5.684012413024902,
          -7.332335948944092,
          -7.963181495666504
         ],
         "yaxis": "y"
        },
        {
         "customdata": [
          [
           "marikas-blend",
           "extra-dark",
           "$34.00/Kg"
          ],
          [
           "killer-coffee",
           "extra-dark",
           "$34.00/Kg"
          ],
          [
           "ethiopian-d-jimmah_5",
           "extra-dark",
           "$36.00/Kg"
          ],
          [
           "mocha-harari",
           "extra-dark",
           "$34.00/Kg"
          ],
          [
           "rio-italian",
           "extra-dark",
           "$34.00/Kg"
          ],
          [
           "cafe-super",
           "extra-dark",
           "$36.00/Kg"
          ],
          [
           "killer-coffee-with-cardamom",
           "extra-dark",
           "$37.00/Kg"
          ],
          [
           "sumatran-mandheling",
           "extra-dark",
           "$36.00/Kg"
          ],
          [
           "mocha-sahara",
           "extra-dark",
           "$36.00/Kg"
          ],
          [
           "brando-blend",
           "extra-dark",
           "$36.00/Kg"
          ],
          [
           "royal-espresso",
           "extra-dark",
           "$36.00/Kg"
          ],
          [
           "mocha-arabica",
           "extra-dark",
           "$34.00/Kg"
          ]
         ],
         "hovertemplate": "roast_level=%{customdata[1]}<br>t-snex=%{x}<br>t-sney=%{y}<br>prod_names=%{customdata[0]}<br>price=%{customdata[2]}<extra></extra>",
         "legendgroup": "extra-dark",
         "marker": {
          "color": "#ab63fa",
          "symbol": "circle"
         },
         "mode": "markers",
         "name": "extra-dark",
         "orientation": "v",
         "showlegend": true,
         "type": "scatter",
         "x": [
          -1.114999771118164,
          0.5056506395339966,
          -0.17595183849334717,
          -0.050489768385887146,
          0.004459577612578869,
          -0.1384059488773346,
          0.9430644512176514,
          -0.18542781472206116,
          1.08952796459198,
          -0.03590447083115578,
          -0.1852392852306366,
          -0.7678696513175964
         ],
         "xaxis": "x",
         "y": [
          -6.409514427185059,
          -5.134310722351074,
          -6.1968255043029785,
          -5.854928016662598,
          -5.469812393188477,
          -7.231881141662598,
          -4.002513408660889,
          -6.2602219581604,
          -5.485800743103027,
          -7.620397090911865,
          -6.343193054199219,
          -7.2689104080200195
         ],
         "yaxis": "y"
        }
       ],
       "layout": {
        "height": 800,
        "legend": {
         "title": {
          "text": "roast_level"
         },
         "tracegroupgap": 0
        },
        "template": {
         "data": {
          "bar": [
           {
            "error_x": {
             "color": "#2a3f5f"
            },
            "error_y": {
             "color": "#2a3f5f"
            },
            "marker": {
             "line": {
              "color": "#E5ECF6",
              "width": 0.5
             },
             "pattern": {
              "fillmode": "overlay",
              "size": 10,
              "solidity": 0.2
             }
            },
            "type": "bar"
           }
          ],
          "barpolar": [
           {
            "marker": {
             "line": {
              "color": "#E5ECF6",
              "width": 0.5
             },
             "pattern": {
              "fillmode": "overlay",
              "size": 10,
              "solidity": 0.2
             }
            },
            "type": "barpolar"
           }
          ],
          "carpet": [
           {
            "aaxis": {
             "endlinecolor": "#2a3f5f",
             "gridcolor": "white",
             "linecolor": "white",
             "minorgridcolor": "white",
             "startlinecolor": "#2a3f5f"
            },
            "baxis": {
             "endlinecolor": "#2a3f5f",
             "gridcolor": "white",
             "linecolor": "white",
             "minorgridcolor": "white",
             "startlinecolor": "#2a3f5f"
            },
            "type": "carpet"
           }
          ],
          "choropleth": [
           {
            "colorbar": {
             "outlinewidth": 0,
             "ticks": ""
            },
            "type": "choropleth"
           }
          ],
          "contour": [
           {
            "colorbar": {
             "outlinewidth": 0,
             "ticks": ""
            },
            "colorscale": [
             [
              0,
              "#0d0887"
             ],
             [
              0.1111111111111111,
              "#46039f"
             ],
             [
              0.2222222222222222,
              "#7201a8"
             ],
             [
              0.3333333333333333,
              "#9c179e"
             ],
             [
              0.4444444444444444,
              "#bd3786"
             ],
             [
              0.5555555555555556,
              "#d8576b"
             ],
             [
              0.6666666666666666,
              "#ed7953"
             ],
             [
              0.7777777777777778,
              "#fb9f3a"
             ],
             [
              0.8888888888888888,
              "#fdca26"
             ],
             [
              1,
              "#f0f921"
             ]
            ],
            "type": "contour"
           }
          ],
          "contourcarpet": [
           {
            "colorbar": {
             "outlinewidth": 0,
             "ticks": ""
            },
            "type": "contourcarpet"
           }
          ],
          "heatmap": [
           {
            "colorbar": {
             "outlinewidth": 0,
             "ticks": ""
            },
            "colorscale": [
             [
              0,
              "#0d0887"
             ],
             [
              0.1111111111111111,
              "#46039f"
             ],
             [
              0.2222222222222222,
              "#7201a8"
             ],
             [
              0.3333333333333333,
              "#9c179e"
             ],
             [
              0.4444444444444444,
              "#bd3786"
             ],
             [
              0.5555555555555556,
              "#d8576b"
             ],
             [
              0.6666666666666666,
              "#ed7953"
             ],
             [
              0.7777777777777778,
              "#fb9f3a"
             ],
             [
              0.8888888888888888,
              "#fdca26"
             ],
             [
              1,
              "#f0f921"
             ]
            ],
            "type": "heatmap"
           }
          ],
          "heatmapgl": [
           {
            "colorbar": {
             "outlinewidth": 0,
             "ticks": ""
            },
            "colorscale": [
             [
              0,
              "#0d0887"
             ],
             [
              0.1111111111111111,
              "#46039f"
             ],
             [
              0.2222222222222222,
              "#7201a8"
             ],
             [
              0.3333333333333333,
              "#9c179e"
             ],
             [
              0.4444444444444444,
              "#bd3786"
             ],
             [
              0.5555555555555556,
              "#d8576b"
             ],
             [
              0.6666666666666666,
              "#ed7953"
             ],
             [
              0.7777777777777778,
              "#fb9f3a"
             ],
             [
              0.8888888888888888,
              "#fdca26"
             ],
             [
              1,
              "#f0f921"
             ]
            ],
            "type": "heatmapgl"
           }
          ],
          "histogram": [
           {
            "marker": {
             "pattern": {
              "fillmode": "overlay",
              "size": 10,
              "solidity": 0.2
             }
            },
            "type": "histogram"
           }
          ],
          "histogram2d": [
           {
            "colorbar": {
             "outlinewidth": 0,
             "ticks": ""
            },
            "colorscale": [
             [
              0,
              "#0d0887"
             ],
             [
              0.1111111111111111,
              "#46039f"
             ],
             [
              0.2222222222222222,
              "#7201a8"
             ],
             [
              0.3333333333333333,
              "#9c179e"
             ],
             [
              0.4444444444444444,
              "#bd3786"
             ],
             [
              0.5555555555555556,
              "#d8576b"
             ],
             [
              0.6666666666666666,
              "#ed7953"
             ],
             [
              0.7777777777777778,
              "#fb9f3a"
             ],
             [
              0.8888888888888888,
              "#fdca26"
             ],
             [
              1,
              "#f0f921"
             ]
            ],
            "type": "histogram2d"
           }
          ],
          "histogram2dcontour": [
           {
            "colorbar": {
             "outlinewidth": 0,
             "ticks": ""
            },
            "colorscale": [
             [
              0,
              "#0d0887"
             ],
             [
              0.1111111111111111,
              "#46039f"
             ],
             [
              0.2222222222222222,
              "#7201a8"
             ],
             [
              0.3333333333333333,
              "#9c179e"
             ],
             [
              0.4444444444444444,
              "#bd3786"
             ],
             [
              0.5555555555555556,
              "#d8576b"
             ],
             [
              0.6666666666666666,
              "#ed7953"
             ],
             [
              0.7777777777777778,
              "#fb9f3a"
             ],
             [
              0.8888888888888888,
              "#fdca26"
             ],
             [
              1,
              "#f0f921"
             ]
            ],
            "type": "histogram2dcontour"
           }
          ],
          "mesh3d": [
           {
            "colorbar": {
             "outlinewidth": 0,
             "ticks": ""
            },
            "type": "mesh3d"
           }
          ],
          "parcoords": [
           {
            "line": {
             "colorbar": {
              "outlinewidth": 0,
              "ticks": ""
             }
            },
            "type": "parcoords"
           }
          ],
          "pie": [
           {
            "automargin": true,
            "type": "pie"
           }
          ],
          "scatter": [
           {
            "fillpattern": {
             "fillmode": "overlay",
             "size": 10,
             "solidity": 0.2
            },
            "type": "scatter"
           }
          ],
          "scatter3d": [
           {
            "line": {
             "colorbar": {
              "outlinewidth": 0,
              "ticks": ""
             }
            },
            "marker": {
             "colorbar": {
              "outlinewidth": 0,
              "ticks": ""
             }
            },
            "type": "scatter3d"
           }
          ],
          "scattercarpet": [
           {
            "marker": {
             "colorbar": {
              "outlinewidth": 0,
              "ticks": ""
             }
            },
            "type": "scattercarpet"
           }
          ],
          "scattergeo": [
           {
            "marker": {
             "colorbar": {
              "outlinewidth": 0,
              "ticks": ""
             }
            },
            "type": "scattergeo"
           }
          ],
          "scattergl": [
           {
            "marker": {
             "colorbar": {
              "outlinewidth": 0,
              "ticks": ""
             }
            },
            "type": "scattergl"
           }
          ],
          "scattermapbox": [
           {
            "marker": {
             "colorbar": {
              "outlinewidth": 0,
              "ticks": ""
             }
            },
            "type": "scattermapbox"
           }
          ],
          "scatterpolar": [
           {
            "marker": {
             "colorbar": {
              "outlinewidth": 0,
              "ticks": ""
             }
            },
            "type": "scatterpolar"
           }
          ],
          "scatterpolargl": [
           {
            "marker": {
             "colorbar": {
              "outlinewidth": 0,
              "ticks": ""
             }
            },
            "type": "scatterpolargl"
           }
          ],
          "scatterternary": [
           {
            "marker": {
             "colorbar": {
              "outlinewidth": 0,
              "ticks": ""
             }
            },
            "type": "scatterternary"
           }
          ],
          "surface": [
           {
            "colorbar": {
             "outlinewidth": 0,
             "ticks": ""
            },
            "colorscale": [
             [
              0,
              "#0d0887"
             ],
             [
              0.1111111111111111,
              "#46039f"
             ],
             [
              0.2222222222222222,
              "#7201a8"
             ],
             [
              0.3333333333333333,
              "#9c179e"
             ],
             [
              0.4444444444444444,
              "#bd3786"
             ],
             [
              0.5555555555555556,
              "#d8576b"
             ],
             [
              0.6666666666666666,
              "#ed7953"
             ],
             [
              0.7777777777777778,
              "#fb9f3a"
             ],
             [
              0.8888888888888888,
              "#fdca26"
             ],
             [
              1,
              "#f0f921"
             ]
            ],
            "type": "surface"
           }
          ],
          "table": [
           {
            "cells": {
             "fill": {
              "color": "#EBF0F8"
             },
             "line": {
              "color": "white"
             }
            },
            "header": {
             "fill": {
              "color": "#C8D4E3"
             },
             "line": {
              "color": "white"
             }
            },
            "type": "table"
           }
          ]
         },
         "layout": {
          "annotationdefaults": {
           "arrowcolor": "#2a3f5f",
           "arrowhead": 0,
           "arrowwidth": 1
          },
          "autotypenumbers": "strict",
          "coloraxis": {
           "colorbar": {
            "outlinewidth": 0,
            "ticks": ""
           }
          },
          "colorscale": {
           "diverging": [
            [
             0,
             "#8e0152"
            ],
            [
             0.1,
             "#c51b7d"
            ],
            [
             0.2,
             "#de77ae"
            ],
            [
             0.3,
             "#f1b6da"
            ],
            [
             0.4,
             "#fde0ef"
            ],
            [
             0.5,
             "#f7f7f7"
            ],
            [
             0.6,
             "#e6f5d0"
            ],
            [
             0.7,
             "#b8e186"
            ],
            [
             0.8,
             "#7fbc41"
            ],
            [
             0.9,
             "#4d9221"
            ],
            [
             1,
             "#276419"
            ]
           ],
           "sequential": [
            [
             0,
             "#0d0887"
            ],
            [
             0.1111111111111111,
             "#46039f"
            ],
            [
             0.2222222222222222,
             "#7201a8"
            ],
            [
             0.3333333333333333,
             "#9c179e"
            ],
            [
             0.4444444444444444,
             "#bd3786"
            ],
            [
             0.5555555555555556,
             "#d8576b"
            ],
            [
             0.6666666666666666,
             "#ed7953"
            ],
            [
             0.7777777777777778,
             "#fb9f3a"
            ],
            [
             0.8888888888888888,
             "#fdca26"
            ],
            [
             1,
             "#f0f921"
            ]
           ],
           "sequentialminus": [
            [
             0,
             "#0d0887"
            ],
            [
             0.1111111111111111,
             "#46039f"
            ],
            [
             0.2222222222222222,
             "#7201a8"
            ],
            [
             0.3333333333333333,
             "#9c179e"
            ],
            [
             0.4444444444444444,
             "#bd3786"
            ],
            [
             0.5555555555555556,
             "#d8576b"
            ],
            [
             0.6666666666666666,
             "#ed7953"
            ],
            [
             0.7777777777777778,
             "#fb9f3a"
            ],
            [
             0.8888888888888888,
             "#fdca26"
            ],
            [
             1,
             "#f0f921"
            ]
           ]
          },
          "colorway": [
           "#636efa",
           "#EF553B",
           "#00cc96",
           "#ab63fa",
           "#FFA15A",
           "#19d3f3",
           "#FF6692",
           "#B6E880",
           "#FF97FF",
           "#FECB52"
          ],
          "font": {
           "color": "#2a3f5f"
          },
          "geo": {
           "bgcolor": "white",
           "lakecolor": "white",
           "landcolor": "#E5ECF6",
           "showlakes": true,
           "showland": true,
           "subunitcolor": "white"
          },
          "hoverlabel": {
           "align": "left"
          },
          "hovermode": "closest",
          "mapbox": {
           "style": "light"
          },
          "paper_bgcolor": "white",
          "plot_bgcolor": "#E5ECF6",
          "polar": {
           "angularaxis": {
            "gridcolor": "white",
            "linecolor": "white",
            "ticks": ""
           },
           "bgcolor": "#E5ECF6",
           "radialaxis": {
            "gridcolor": "white",
            "linecolor": "white",
            "ticks": ""
           }
          },
          "scene": {
           "xaxis": {
            "backgroundcolor": "#E5ECF6",
            "gridcolor": "white",
            "gridwidth": 2,
            "linecolor": "white",
            "showbackground": true,
            "ticks": "",
            "zerolinecolor": "white"
           },
           "yaxis": {
            "backgroundcolor": "#E5ECF6",
            "gridcolor": "white",
            "gridwidth": 2,
            "linecolor": "white",
            "showbackground": true,
            "ticks": "",
            "zerolinecolor": "white"
           },
           "zaxis": {
            "backgroundcolor": "#E5ECF6",
            "gridcolor": "white",
            "gridwidth": 2,
            "linecolor": "white",
            "showbackground": true,
            "ticks": "",
            "zerolinecolor": "white"
           }
          },
          "shapedefaults": {
           "line": {
            "color": "#2a3f5f"
           }
          },
          "ternary": {
           "aaxis": {
            "gridcolor": "white",
            "linecolor": "white",
            "ticks": ""
           },
           "baxis": {
            "gridcolor": "white",
            "linecolor": "white",
            "ticks": ""
           },
           "bgcolor": "#E5ECF6",
           "caxis": {
            "gridcolor": "white",
            "linecolor": "white",
            "ticks": ""
           }
          },
          "title": {
           "x": 0.05
          },
          "xaxis": {
           "automargin": true,
           "gridcolor": "white",
           "linecolor": "white",
           "ticks": "",
           "title": {
            "standoff": 15
           },
           "zerolinecolor": "white",
           "zerolinewidth": 2
          },
          "yaxis": {
           "automargin": true,
           "gridcolor": "white",
           "linecolor": "white",
           "ticks": "",
           "title": {
            "standoff": 15
           },
           "zerolinecolor": "white",
           "zerolinewidth": 2
          }
         }
        },
        "title": {
         "text": "KL distance between coffees"
        },
        "width": 800,
        "xaxis": {
         "anchor": "y",
         "domain": [
          0,
          1
         ],
         "title": {
          "text": "t-snex"
         }
        },
        "yaxis": {
         "anchor": "x",
         "domain": [
          0,
          1
         ],
         "title": {
          "text": "t-sney"
         }
        }
       }
      }
     },
     "metadata": {},
     "output_type": "display_data"
    }
   ],
   "source": [
    "# Now, we need to visualize the result. Plotly is my go-to when I want to plot an interactive graph\n",
    "\n",
    "import plotly.express as px\n",
    "fig = px.scatter(df_coffee, x='t-snex', y='t-sney', color=\"roast_level\", \n",
    "                hover_data=['prod_names','roast_level','price'], title='KL distance between coffees',\n",
    "                width=800, height=800)\n",
    "fig.show()"
   ]
  },
  {
   "cell_type": "code",
   "execution_count": 79,
   "metadata": {},
   "outputs": [
    {
     "name": "stdout",
     "output_type": "stream",
     "text": [
      "Pretty printing has been turned OFF\n"
     ]
    }
   ],
   "source": [
    "# disable pretty print first\n",
    "%pprint"
   ]
  },
  {
   "cell_type": "code",
   "execution_count": 80,
   "metadata": {},
   "outputs": [
    {
     "name": "stdout",
     "output_type": "stream",
     "text": [
      "Description for organic-espresso: \n",
      "blend organic estate coffees peru mexico nicaragua rich quite strong smooth like espresso coffee dark\n",
      " \n",
      "Description for mocha-java: \n",
      "blend combines best africa indonesia produce strong rich smooth coffee plenty depth dark\n"
     ]
    }
   ],
   "source": [
    "# How can we be sure 2 beans are similar, as suggested by the plot? We can retrieve the descriptions provided by the retailer!\n",
    "\n",
    "def get_des(prod_1, prod_2):\n",
    "    print(f'Description for {prod_1}: \\n' +\n",
    "    ' '.join(corpus[int(df_coffee.query(f'prod_names==\"{prod_1}\"').idx)]))\n",
    "    print(' ')\n",
    "    print(f'Description for {prod_2}: \\n'+\n",
    "    ' '.join(corpus[int(df_coffee.query(f'prod_names==\"{prod_2}\"').idx)]))\n",
    "\n",
    "get_des('organic-espresso','mocha-java')"
   ]
  },
  {
   "cell_type": "markdown",
   "metadata": {},
   "source": [
    "<div style=\"font-size: 14px\">\n",
    "That is a nice way to visualize how similar these beans are. Unfortunately, the output is only as good as the input. Just because two beans are graphically close to each other does not mean they are actually similar. For example, the retailer may say both beans are great for V60, but that does not mean their taste profile are necessarily similar. Nonetheless, the graphical representation does indeed provide useful insights for me to consider which bean I am going to try out next time!\n",
    "</div>"
   ]
  }
 ],
 "metadata": {
  "kernelspec": {
   "display_name": "Python 3.10.4 64-bit",
   "language": "python",
   "name": "python3"
  },
  "language_info": {
   "codemirror_mode": {
    "name": "ipython",
    "version": 3
   },
   "file_extension": ".py",
   "mimetype": "text/x-python",
   "name": "python",
   "nbconvert_exporter": "python",
   "pygments_lexer": "ipython3",
   "version": "3.10.4"
  },
  "orig_nbformat": 4,
  "vscode": {
   "interpreter": {
    "hash": "96cc47b241cb8d7e0af51c8a5f60adb61b101af46438ad30a42bb4e5a2a6a23a"
   }
  }
 },
 "nbformat": 4,
 "nbformat_minor": 2
}
