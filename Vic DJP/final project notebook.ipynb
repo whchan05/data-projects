{
 "cells": [
  {
   "cell_type": "markdown",
   "metadata": {},
   "source": [
    "#### Digital Job Program Business Analytics with SQL and Python Final Project - SuperFoodsMax\n",
    "\n",
    "This notebook covers all codes used in the exploration of dataset provided by DJP course \"Business Analytics with SQL and Python\"."
   ]
  },
  {
   "cell_type": "markdown",
   "metadata": {},
   "source": [
    "First thing first, import necessary packages and load the dataset. Then get a taste of the data."
   ]
  },
  {
   "cell_type": "code",
   "execution_count": 53,
   "metadata": {},
   "outputs": [
    {
     "data": {
      "text/html": [
       "<div>\n",
       "<style scoped>\n",
       "    .dataframe tbody tr th:only-of-type {\n",
       "        vertical-align: middle;\n",
       "    }\n",
       "\n",
       "    .dataframe tbody tr th {\n",
       "        vertical-align: top;\n",
       "    }\n",
       "\n",
       "    .dataframe thead th {\n",
       "        text-align: right;\n",
       "    }\n",
       "</style>\n",
       "<table border=\"1\" class=\"dataframe\">\n",
       "  <thead>\n",
       "    <tr style=\"text-align: right;\">\n",
       "      <th></th>\n",
       "      <th>customer_id</th>\n",
       "      <th>product_id</th>\n",
       "      <th>basket_id</th>\n",
       "      <th>loyalty</th>\n",
       "      <th>household_type</th>\n",
       "      <th>age_band</th>\n",
       "      <th>department</th>\n",
       "      <th>brand</th>\n",
       "      <th>commodity</th>\n",
       "      <th>store</th>\n",
       "      <th>price</th>\n",
       "      <th>transaction_date</th>\n",
       "    </tr>\n",
       "  </thead>\n",
       "  <tbody>\n",
       "    <tr>\n",
       "      <th>0</th>\n",
       "      <td>15803</td>\n",
       "      <td>1131974</td>\n",
       "      <td>57266</td>\n",
       "      <td>Loyalist</td>\n",
       "      <td>1 adult with kids</td>\n",
       "      <td>19-24</td>\n",
       "      <td>Grocery</td>\n",
       "      <td>private</td>\n",
       "      <td>Baked bread/buns/rolls</td>\n",
       "      <td>374</td>\n",
       "      <td>0.99</td>\n",
       "      <td>5/10/2020</td>\n",
       "    </tr>\n",
       "    <tr>\n",
       "      <th>1</th>\n",
       "      <td>15803</td>\n",
       "      <td>1051516</td>\n",
       "      <td>57266</td>\n",
       "      <td>Loyalist</td>\n",
       "      <td>1 adult with kids</td>\n",
       "      <td>19-24</td>\n",
       "      <td>Produce</td>\n",
       "      <td>national</td>\n",
       "      <td>Vegetables - all others</td>\n",
       "      <td>374</td>\n",
       "      <td>0.70</td>\n",
       "      <td>24/10/2020</td>\n",
       "    </tr>\n",
       "    <tr>\n",
       "      <th>2</th>\n",
       "      <td>15803</td>\n",
       "      <td>967254</td>\n",
       "      <td>57266</td>\n",
       "      <td>Loyalist</td>\n",
       "      <td>1 adult with kids</td>\n",
       "      <td>19-24</td>\n",
       "      <td>Pharmaceutical</td>\n",
       "      <td>national</td>\n",
       "      <td>Cold and flu</td>\n",
       "      <td>374</td>\n",
       "      <td>1.68</td>\n",
       "      <td>18/10/2020</td>\n",
       "    </tr>\n",
       "    <tr>\n",
       "      <th>3</th>\n",
       "      <td>15803</td>\n",
       "      <td>1134222</td>\n",
       "      <td>57266</td>\n",
       "      <td>Loyalist</td>\n",
       "      <td>1 adult with kids</td>\n",
       "      <td>19-24</td>\n",
       "      <td>Grocery</td>\n",
       "      <td>private</td>\n",
       "      <td>Paper housewares</td>\n",
       "      <td>374</td>\n",
       "      <td>2.59</td>\n",
       "      <td>23/10/2020</td>\n",
       "    </tr>\n",
       "    <tr>\n",
       "      <th>4</th>\n",
       "      <td>15803</td>\n",
       "      <td>1003421</td>\n",
       "      <td>57266</td>\n",
       "      <td>Loyalist</td>\n",
       "      <td>1 adult with kids</td>\n",
       "      <td>19-24</td>\n",
       "      <td>Grocery</td>\n",
       "      <td>national</td>\n",
       "      <td>Soup</td>\n",
       "      <td>374</td>\n",
       "      <td>0.60</td>\n",
       "      <td>27/10/2020</td>\n",
       "    </tr>\n",
       "  </tbody>\n",
       "</table>\n",
       "</div>"
      ],
      "text/plain": [
       "   customer_id  product_id  basket_id   loyalty     household_type age_band  \\\n",
       "0        15803     1131974      57266  Loyalist  1 adult with kids    19-24   \n",
       "1        15803     1051516      57266  Loyalist  1 adult with kids    19-24   \n",
       "2        15803      967254      57266  Loyalist  1 adult with kids    19-24   \n",
       "3        15803     1134222      57266  Loyalist  1 adult with kids    19-24   \n",
       "4        15803     1003421      57266  Loyalist  1 adult with kids    19-24   \n",
       "\n",
       "       department     brand                commodity  store  price  \\\n",
       "0         Grocery   private   Baked bread/buns/rolls    374   0.99   \n",
       "1         Produce  national  Vegetables - all others    374   0.70   \n",
       "2  Pharmaceutical  national             Cold and flu    374   1.68   \n",
       "3         Grocery   private         Paper housewares    374   2.59   \n",
       "4         Grocery  national                     Soup    374   0.60   \n",
       "\n",
       "  transaction_date  \n",
       "0        5/10/2020  \n",
       "1       24/10/2020  \n",
       "2       18/10/2020  \n",
       "3       23/10/2020  \n",
       "4       27/10/2020  "
      ]
     },
     "execution_count": 53,
     "metadata": {},
     "output_type": "execute_result"
    }
   ],
   "source": [
    "import pandas as pd\n",
    "import numpy as np\n",
    "\n",
    "df_raw = pd.read_csv(\"./dataset_2019_2022.csv\")\n",
    "df_raw.head()"
   ]
  },
  {
   "cell_type": "markdown",
   "metadata": {},
   "source": [
    "Inspect dataframe dimensions."
   ]
  },
  {
   "cell_type": "code",
   "execution_count": 54,
   "metadata": {},
   "outputs": [
    {
     "data": {
      "text/plain": [
       "(77750, 12)"
      ]
     },
     "execution_count": 54,
     "metadata": {},
     "output_type": "execute_result"
    }
   ],
   "source": [
    "df_raw.shape"
   ]
  },
  {
   "cell_type": "markdown",
   "metadata": {},
   "source": [
    "Inspect dataframe info."
   ]
  },
  {
   "cell_type": "code",
   "execution_count": 55,
   "metadata": {},
   "outputs": [
    {
     "name": "stdout",
     "output_type": "stream",
     "text": [
      "<class 'pandas.core.frame.DataFrame'>\n",
      "RangeIndex: 77750 entries, 0 to 77749\n",
      "Data columns (total 12 columns):\n",
      " #   Column            Non-Null Count  Dtype  \n",
      "---  ------            --------------  -----  \n",
      " 0   customer_id       77750 non-null  int64  \n",
      " 1   product_id        77750 non-null  int64  \n",
      " 2   basket_id         77750 non-null  int64  \n",
      " 3   loyalty           77750 non-null  object \n",
      " 4   household_type    77750 non-null  object \n",
      " 5   age_band          77750 non-null  object \n",
      " 6   department        77750 non-null  object \n",
      " 7   brand             77750 non-null  object \n",
      " 8   commodity         77750 non-null  object \n",
      " 9   store             77750 non-null  int64  \n",
      " 10  price             77750 non-null  float64\n",
      " 11  transaction_date  77750 non-null  object \n",
      "dtypes: float64(1), int64(4), object(7)\n",
      "memory usage: 7.1+ MB\n"
     ]
    }
   ],
   "source": [
    "df_raw.info()"
   ]
  },
  {
   "cell_type": "markdown",
   "metadata": {},
   "source": [
    "Inspect unique values one by one - missing / corrupt data can appear in ways you least expect it."
   ]
  },
  {
   "cell_type": "code",
   "execution_count": 56,
   "metadata": {},
   "outputs": [
    {
     "name": "stdout",
     "output_type": "stream",
     "text": [
      "customer_id\n",
      "[  15803   15811   15815 ... 2791100 2794900 2811700]\n",
      "\n",
      "product_id\n",
      "[   35082    74176   124385 ... 18184230 18185306 18203921]\n",
      "\n",
      "basket_id\n",
      "[  51964   51965   51966 ... 6809800 6810700 6811600]\n",
      "\n",
      "loyalty\n",
      "['First Time Buyer' 'Loyalist' 'Promiscuous']\n",
      "\n",
      "household_type\n",
      "['1 adult with kids' '2 adults with kids' '2 adults with no kids'\n",
      " 'Single female' 'Single male']\n",
      "\n",
      "age_band\n",
      "['19-24' '25-34' '35-44' '45-54' '55-64' 'Greater than 65']\n",
      "\n",
      "department\n",
      "['Cosmetics' 'Deli' 'Floral' 'Grocery' 'Meat' 'Nutrition' 'Pastry'\n",
      " 'Pharmaceutical' 'Produce' 'Salad Bar' 'Seafood']\n",
      "\n",
      "brand\n",
      "['national' 'private']\n",
      "\n",
      "commodity\n",
      "['Air care' 'Analgesics' 'Antacids' 'Apparel' 'Apples'\n",
      " 'Audio/video products' 'Automotive products' 'Baby foods' 'Baby hbc'\n",
      " 'Bacon' 'Bag snacks' 'Baked bread/buns/rolls' 'Baked sweet goods'\n",
      " 'Bakery party trays' 'Baking' 'Baking mixes' 'Baking needs' 'Bath'\n",
      " 'Bath tissues' 'Batteries' 'Beef' 'Beers/ales' 'Berries' 'Beverage'\n",
      " 'Bird seed' 'Bleach' 'Books' 'Bottle deposits' 'Bread'\n",
      " 'Breakfast sausage/sandwiches' 'Breakfast snacks' 'Breakfast sweets'\n",
      " 'Broccoli/cauliflower' 'Brooms and mops' 'Butter' 'Cakes'\n",
      " 'Candles/accessories' 'Candy' 'Canned beans' 'Canned juices'\n",
      " 'Canned milk' 'Carrots' 'Cat food' 'Cat litter' 'Cereal'\n",
      " 'Cereal/breakfast' 'Charcoal and lighter fluid' 'Cheese' 'Chicken'\n",
      " 'Chicken/poultry' 'Chips/snacks' 'Christmas  seasonal' 'Cigarettes'\n",
      " 'Citrus' 'Cocoa mixes' 'Coffee' 'Coffee filters' 'Cold and flu'\n",
      " 'Condiments' 'Continuities' 'Cookies' 'Cookware' 'Corn'\n",
      " 'Cosmetic accessories' 'Coupon/misc items' 'Crackers/misc bkd fd'\n",
      " 'Deli meats' 'Deli specialties' 'Deli supplies' 'Deodorants' 'Diapers'\n",
      " 'Dietary aid products' 'Dinner mixes' 'Dinner sausage'\n",
      " 'Dishwash detergents' 'Disposible foilware' 'Dog foods' 'Domestic goods'\n",
      " 'Domestic wine' 'Dried fruit' 'Dry beans/vegetables/potato/rice'\n",
      " 'Dry mix desserts' 'Dry noodles/pasta' 'Dry sauces/gravy'\n",
      " 'Dry tea/coffee/cocoa mix' 'Eggs' 'Electrical suppplies'\n",
      " 'Eye and ear care products' 'Facial tissues' 'Family planning'\n",
      " 'Feminine hygiene' 'Film and camera products' 'Fireworks'\n",
      " 'First aid products' 'Fitness/diet' 'Floral accessories' 'Floral plants'\n",
      " 'Flour' 'Fluid milk products' 'Food wraps/bags' 'Foot care products'\n",
      " 'Fragrances' 'Frozen' 'Frozen boxed/grocery' 'Frozen bread/dough'\n",
      " 'Frozen breakfast foods' 'Frozen chicken' 'Frozen drinks' 'Frozen fruits'\n",
      " 'Frozen ice' 'Frozen meat' 'Frozen novelties' 'Frozen pie/desserts'\n",
      " 'Frozen pizza' 'Frozen potatoes' 'Frozen vegetables' 'Fruit'\n",
      " 'Glasses/vision aids' 'Glassware/dinnerware' 'Grapes'\n",
      " 'Greeting cards/party supplies' 'Hair care accessories'\n",
      " 'Hair care products' 'Halloween' 'Hand/body/facial products'\n",
      " 'Hardware supplies' 'Heat/serve' 'Herbs' 'Home freezing'\n",
      " 'Home furnishings' 'Hosiery/socks' 'Hot dogs' 'Household cleaning needs'\n",
      " 'Ice cream/milk/sherbets' 'Imported wine' 'In-store photofinishing'\n",
      " 'Infant care products' 'Infant formula' 'Insecticides'\n",
      " 'Ironing and chemicals' 'Isotonic drinks' 'J-hooks' 'Juice'\n",
      " 'Kitchen gadgets' 'Laundry additives' 'Laundry detergents'\n",
      " 'Lawn and garden shop' 'Laxatives' 'Liquor' 'Lunch meat' 'Magazine'\n",
      " 'Makeup and treatment' 'Margarines' 'Meat - Other' 'Melons'\n",
      " 'Milk by-products' 'Misc  dairy' 'Misc wine' 'Miscellaneous' 'Mushrooms'\n",
      " 'Natural hbc' 'New age' 'Newspaper' 'Non edible products'\n",
      " 'Non-dairy beverages' 'Nuts' 'Olives' 'Onions' 'Oral hygiene products'\n",
      " 'Organic fruit/vegetables' 'Overnight photofinishing'\n",
      " 'Packaged natural snacks' 'Paper housewares' 'Paper towels' 'Party trays'\n",
      " 'Pasta sauce' 'Peanut butter/jelly/jams' 'Pears' 'Peppers'\n",
      " 'Personal care appliances' 'Pet care supplies' 'Pickles/relish' 'Pies'\n",
      " 'Plastic housewares' 'Popcorn' 'Pork' 'Portable electric appliances'\n",
      " 'Potatoes' 'Powder/crystal drink mix' 'Prepaid wireless accessories'\n",
      " 'Prepared food' 'Processed' 'Produce supplies' 'Refrigerated'\n",
      " 'Refrigerated dough products' 'Refrigerated juices/drinks' 'Rice cakes'\n",
      " 'Rolls' 'Roses' 'Salad' 'Salad dressing' 'Sandwiches' 'Seafood-fresh'\n",
      " 'Seafood-frozen' 'Seafood-misc' 'Seafood-shelf stable' 'Seasonal'\n",
      " 'Service beverage' 'Sewing' 'Shaving care products' 'Shoe care'\n",
      " 'Shortening/oil' 'Sinus and allergy' 'Smoked meats' 'Snack nuts' 'Snacks'\n",
      " 'Soap' 'Soft drinks' 'Soup' 'Spices' 'Sports memorablilia' 'Squash'\n",
      " 'Stationery/school supplies' 'Stone fruit' 'Sugars/sweetners' 'Suntan'\n",
      " 'Sushi' 'Syrup' 'Syrups/toppings' 'Teas' 'Tickets' 'Tobacco other'\n",
      " 'Tomatoes' 'Toys and games' 'Tropical fruit' 'Turkey' 'Valentine'\n",
      " 'Value added fruit' 'Value added vegetables' 'Vegetables - all others'\n",
      " 'Vegetables - shelf stable' 'Vegetables salad' 'Vitamins'\n",
      " 'Warehouse snacks' 'Water' 'Water - carbonated/flavoured drinks' 'Yogurt']\n",
      "\n",
      "store\n",
      "[374]\n",
      "\n",
      "price\n",
      "[ 0.1   0.12  0.13  0.15  0.17  0.18  0.19  0.2   0.21  0.22  0.24  0.25\n",
      "  0.26  0.27  0.28  0.29  0.3   0.31  0.32  0.33  0.34  0.35  0.36  0.37\n",
      "  0.38  0.39  0.4   0.41  0.42  0.44  0.45  0.46  0.47  0.48  0.49  0.5\n",
      "  0.51  0.52  0.54  0.55  0.56  0.57  0.58  0.59  0.6   0.61  0.62  0.63\n",
      "  0.64  0.65  0.66  0.67  0.68  0.69  0.7   0.71  0.72  0.73  0.74  0.75\n",
      "  0.76  0.77  0.78  0.79  0.8   0.81  0.82  0.83  0.84  0.85  0.86  0.87\n",
      "  0.88  0.89  0.9   0.91  0.92  0.93  0.94  0.95  0.96  0.97  0.98  0.99\n",
      "  1.    1.01  1.02  1.03  1.04  1.05  1.06  1.07  1.08  1.09  1.1   1.11\n",
      "  1.12  1.13  1.14  1.15  1.16  1.17  1.18  1.19  1.2   1.21  1.22  1.23\n",
      "  1.24  1.25  1.26  1.27  1.28  1.29  1.3   1.31  1.32  1.33  1.34  1.35\n",
      "  1.36  1.37  1.38  1.39  1.4   1.41  1.42  1.43  1.44  1.45  1.46  1.47\n",
      "  1.48  1.49  1.5   1.51  1.52  1.53  1.54  1.55  1.56  1.57  1.58  1.59\n",
      "  1.6   1.61  1.62  1.63  1.64  1.65  1.66  1.67  1.68  1.69  1.7   1.71\n",
      "  1.72  1.73  1.74  1.75  1.76  1.77  1.78  1.79  1.8   1.81  1.82  1.83\n",
      "  1.84  1.85  1.86  1.87  1.88  1.89  1.9   1.91  1.92  1.93  1.94  1.95\n",
      "  1.96  1.97  1.98  1.99  2.    2.01  2.02  2.03  2.04  2.05  2.06  2.07\n",
      "  2.08  2.09  2.1   2.11  2.12  2.13  2.14  2.15  2.16  2.17  2.18  2.19\n",
      "  2.2   2.21  2.22  2.23  2.24  2.25  2.26  2.27  2.28  2.29  2.3   2.31\n",
      "  2.32  2.33  2.34  2.35  2.36  2.37  2.38  2.39  2.4   2.41  2.42  2.43\n",
      "  2.44  2.45  2.46  2.47  2.48  2.49  2.5   2.51  2.52  2.54  2.55  2.56\n",
      "  2.57  2.58  2.59  2.6   2.61  2.62  2.63  2.64  2.65  2.66  2.67  2.68\n",
      "  2.69  2.7   2.71  2.72  2.73  2.74  2.75  2.76  2.77  2.78  2.79  2.8\n",
      "  2.81  2.82  2.83  2.84  2.85  2.86  2.87  2.88  2.89  2.9   2.91  2.92\n",
      "  2.93  2.94  2.95  2.96  2.97  2.98  2.99  3.    3.01  3.02  3.03  3.04\n",
      "  3.05  3.06  3.07  3.08  3.09  3.1   3.11  3.12  3.13  3.14  3.15  3.16\n",
      "  3.17  3.18  3.19  3.2   3.21  3.22  3.23  3.24  3.25  3.26  3.27  3.28\n",
      "  3.29  3.3   3.31  3.32  3.33  3.34  3.35  3.36  3.38  3.39  3.4   3.41\n",
      "  3.42  3.43  3.44  3.45  3.46  3.47  3.48  3.49  3.5   3.51  3.52  3.53\n",
      "  3.54  3.55  3.56  3.57  3.58  3.59  3.6   3.62  3.63  3.64  3.65  3.66\n",
      "  3.67  3.68  3.69  3.7   3.71  3.72  3.73  3.74  3.75  3.76  3.77  3.78\n",
      "  3.79  3.8   3.82  3.83  3.84  3.86  3.87  3.88  3.89  3.9   3.91  3.92\n",
      "  3.93  3.94  3.95  3.96  3.97  3.98  3.99  4.    4.01  4.02  4.03  4.04\n",
      "  4.05  4.06  4.07  4.08  4.09  4.11  4.12  4.13  4.14  4.15  4.16  4.17\n",
      "  4.18  4.19  4.2   4.21  4.22  4.23  4.24  4.25  4.26  4.27  4.28  4.29\n",
      "  4.3   4.31  4.32  4.33  4.34  4.36  4.37  4.38  4.39  4.4   4.41  4.42\n",
      "  4.43  4.44  4.47  4.48  4.49  4.5   4.51  4.52  4.53  4.54  4.55  4.56\n",
      "  4.57  4.58  4.59  4.6   4.61  4.62  4.63  4.64  4.65  4.66  4.67  4.68\n",
      "  4.69  4.7   4.71  4.72  4.73  4.74  4.75  4.76  4.77  4.78  4.79  4.8\n",
      "  4.82  4.84  4.85  4.86  4.87  4.88  4.89  4.9   4.91  4.92  4.93  4.95\n",
      "  4.96  4.97  4.98  4.99  5.    5.01  5.02  5.03  5.04  5.05  5.06  5.07\n",
      "  5.08  5.09  5.1   5.11  5.12  5.14  5.15  5.16  5.17  5.18  5.19  5.22\n",
      "  5.23  5.24  5.25  5.27  5.28  5.29  5.3   5.31  5.33  5.34  5.35  5.36\n",
      "  5.37  5.38  5.39  5.43  5.44  5.45  5.46  5.47  5.48  5.49  5.5   5.51\n",
      "  5.52  5.53  5.54  5.55  5.56  5.57  5.58  5.59  5.6   5.61  5.63  5.64\n",
      "  5.65  5.66  5.67  5.69  5.71  5.72  5.73  5.74  5.75  5.76  5.77  5.78\n",
      "  5.79  5.8   5.81  5.83  5.84  5.85  5.87  5.88  5.89  5.91  5.92  5.93\n",
      "  5.94  5.95  5.96  5.97  5.98  5.99  6.    6.07  6.08  6.09  6.1   6.11\n",
      "  6.13  6.17  6.18  6.19  6.2   6.22  6.23  6.25  6.27  6.29  6.3   6.32\n",
      "  6.34  6.35  6.37  6.38  6.39  6.44  6.45  6.46  6.48  6.49  6.5   6.51\n",
      "  6.53  6.54  6.55  6.56  6.57  6.58  6.59  6.62  6.65  6.66  6.67  6.69\n",
      "  6.71  6.73  6.74  6.76  6.77  6.78  6.79  6.81  6.83  6.84  6.85  6.87\n",
      "  6.88  6.89  6.93  6.94  6.96  6.97  6.98  6.99  7.    7.01  7.03  7.04\n",
      "  7.06  7.07  7.08  7.09  7.12  7.13  7.14  7.16  7.17  7.18  7.19  7.2\n",
      "  7.24  7.27  7.29  7.3   7.33  7.34  7.36  7.37  7.38  7.39  7.41  7.43\n",
      "  7.44  7.45  7.46  7.47  7.49  7.5   7.52  7.54  7.55  7.56  7.58  7.59\n",
      "  7.6   7.62  7.64  7.66  7.67  7.68  7.69  7.7   7.71  7.72  7.73  7.75\n",
      "  7.78  7.79  7.8   7.85  7.86  7.87  7.88  7.89  7.9   7.91  7.95  7.96\n",
      "  7.97  7.98  7.99  8.    8.02  8.09  8.1   8.12  8.13  8.18  8.19  8.24\n",
      "  8.25  8.26  8.29  8.3   8.32  8.33  8.36  8.37  8.38  8.39  8.41  8.42\n",
      "  8.43  8.46  8.49  8.51  8.56  8.58  8.59  8.62  8.68  8.69  8.7   8.74\n",
      "  8.75  8.76  8.79  8.8   8.83  8.84  8.86  8.87  8.88  8.89  8.9   8.94\n",
      "  8.95  8.96  8.97  8.98  8.99  9.    9.03  9.05  9.07  9.1   9.13  9.16\n",
      "  9.18  9.19  9.23  9.24  9.3   9.34  9.35  9.44  9.45  9.47  9.48  9.49\n",
      "  9.53  9.54  9.56  9.57  9.58  9.59  9.6   9.61  9.65  9.73  9.74  9.76\n",
      "  9.78  9.79  9.82  9.87  9.95  9.96  9.98  9.99 10.   10.09 10.12 10.17\n",
      " 10.18 10.19 10.25 10.26 10.27 10.28 10.29 10.32 10.36 10.38 10.39 10.43\n",
      " 10.49 10.59 10.6  10.68 10.71 10.77 10.78 10.85 10.89 10.92 10.96 10.99\n",
      " 11.   11.01 11.03 11.06 11.07 11.09 11.16 11.29 11.37 11.38 11.49 11.51\n",
      " 11.52 11.56 11.58 11.59 11.64 11.67 11.69 11.76 11.79 11.88 11.89 11.9\n",
      " 11.94 11.96 11.97 11.98 11.99 12.   12.03 12.19 12.29 12.42 12.45 12.5\n",
      " 12.53 12.57 12.63 12.65 12.68 12.69 12.85 12.86 12.89 12.94 12.98 12.99\n",
      " 13.   13.1  13.29 13.46 13.48 13.49 13.5  13.61 13.69 13.74 13.77 13.78\n",
      " 13.92 13.93 13.96 13.98 13.99 14.29 14.32 14.34 14.36 14.4  14.45 14.49\n",
      " 14.59 14.94 14.95 14.97 14.99 15.   15.1  15.8  15.91 15.96 15.98 15.99\n",
      " 16.   16.37 16.49 16.58 16.76 16.79 16.86 16.99 17.09 17.1  17.43 17.59\n",
      " 17.76 17.94 17.96 17.97 17.98 17.99 18.18 18.29 18.62 18.7  18.99 19.14\n",
      " 19.27 19.29 19.34 19.4  19.53 19.54 19.89 19.95 19.98 19.99 20.47 20.69\n",
      " 20.79 20.98 20.99 21.54 21.98 21.99 22.15 22.47 22.99 23.59 23.94 23.96\n",
      " 23.98 23.99 24.16 24.25 24.56 24.72 25.   25.52 25.98 26.   26.19 26.39\n",
      " 26.52 26.97 26.99 28.99 29.88 29.97 29.99 30.98 31.54 31.83 32.   32.2\n",
      " 32.99 33.98 35.84 36.36 37.34 38.47 39.12 39.49 39.95 39.96 39.99 42.99\n",
      " 43.69 45.98 49.22 50.   56.97 68.97]\n",
      "\n",
      "transaction_date\n",
      "['1/01/2019' '1/01/2020' '1/01/2021' ... '9/12/2019' '9/12/2020'\n",
      " '9/12/2021']\n",
      "\n"
     ]
    }
   ],
   "source": [
    "for col in df_raw:\n",
    "    print(col)\n",
    "    print(df_raw[col].sort_values().unique())\n",
    "    print(\"\")"
   ]
  },
  {
   "cell_type": "markdown",
   "metadata": {},
   "source": [
    "For variable **age_band**, changing **Greater than 65** to **65+** make it more natural."
   ]
  },
  {
   "cell_type": "code",
   "execution_count": 57,
   "metadata": {},
   "outputs": [
    {
     "data": {
      "text/plain": [
       "array(['19-24', '25-34', '35-44', '45-54', '65+', '55-64'], dtype=object)"
      ]
     },
     "execution_count": 57,
     "metadata": {},
     "output_type": "execute_result"
    }
   ],
   "source": [
    "df_proc = df_raw.copy(deep=True)\n",
    "df_proc[\"age_band\"] = np.where(df_proc[\"age_band\"] == \"Greater than 65\", \"65+\", df_proc[\"age_band\"])\n",
    "df_proc[\"age_band\"].unique()"
   ]
  },
  {
   "cell_type": "markdown",
   "metadata": {},
   "source": [
    "Variable **price** is renamed as **sales**."
   ]
  },
  {
   "cell_type": "code",
   "execution_count": 58,
   "metadata": {},
   "outputs": [],
   "source": [
    "df_proc[\"sales\"] = df_proc[\"price\"]\n",
    "df_proc.drop(\"price\", axis = 1, inplace = True)"
   ]
  },
  {
   "cell_type": "markdown",
   "metadata": {},
   "source": [
    "Now that we have processed the raw data, we transform dataframe into our preferred format to make graphs.\n",
    "The date is not correctly parsed when data is ingested, so we do it manually here."
   ]
  },
  {
   "cell_type": "code",
   "execution_count": 61,
   "metadata": {},
   "outputs": [],
   "source": [
    "df_plot1 = df_proc.copy()\n",
    "df_plot1[[\"transaction_day\",\"transaction_month\",\"transaction_year\"]] = df_plot1[\"transaction_date\"].str.split(pat=\"/\", expand=True)"
   ]
  },
  {
   "cell_type": "code",
   "execution_count": 62,
   "metadata": {},
   "outputs": [
    {
     "data": {
      "text/html": [
       "<div>\n",
       "<style scoped>\n",
       "    .dataframe tbody tr th:only-of-type {\n",
       "        vertical-align: middle;\n",
       "    }\n",
       "\n",
       "    .dataframe tbody tr th {\n",
       "        vertical-align: top;\n",
       "    }\n",
       "\n",
       "    .dataframe thead th {\n",
       "        text-align: right;\n",
       "    }\n",
       "</style>\n",
       "<table border=\"1\" class=\"dataframe\">\n",
       "  <thead>\n",
       "    <tr style=\"text-align: right;\">\n",
       "      <th></th>\n",
       "      <th>customer_id</th>\n",
       "      <th>product_id</th>\n",
       "      <th>basket_id</th>\n",
       "      <th>loyalty</th>\n",
       "      <th>household_type</th>\n",
       "      <th>age_band</th>\n",
       "      <th>department</th>\n",
       "      <th>brand</th>\n",
       "      <th>commodity</th>\n",
       "      <th>store</th>\n",
       "      <th>transaction_date</th>\n",
       "      <th>sales</th>\n",
       "      <th>transaction_day</th>\n",
       "      <th>transaction_month</th>\n",
       "      <th>transaction_year</th>\n",
       "    </tr>\n",
       "  </thead>\n",
       "  <tbody>\n",
       "    <tr>\n",
       "      <th>0</th>\n",
       "      <td>15803</td>\n",
       "      <td>1131974</td>\n",
       "      <td>57266</td>\n",
       "      <td>Loyalist</td>\n",
       "      <td>1 adult with kids</td>\n",
       "      <td>19-24</td>\n",
       "      <td>Grocery</td>\n",
       "      <td>private</td>\n",
       "      <td>Baked bread/buns/rolls</td>\n",
       "      <td>374</td>\n",
       "      <td>5/10/2020</td>\n",
       "      <td>0.99</td>\n",
       "      <td>5</td>\n",
       "      <td>10</td>\n",
       "      <td>2020</td>\n",
       "    </tr>\n",
       "    <tr>\n",
       "      <th>1</th>\n",
       "      <td>15803</td>\n",
       "      <td>1051516</td>\n",
       "      <td>57266</td>\n",
       "      <td>Loyalist</td>\n",
       "      <td>1 adult with kids</td>\n",
       "      <td>19-24</td>\n",
       "      <td>Produce</td>\n",
       "      <td>national</td>\n",
       "      <td>Vegetables - all others</td>\n",
       "      <td>374</td>\n",
       "      <td>24/10/2020</td>\n",
       "      <td>0.70</td>\n",
       "      <td>24</td>\n",
       "      <td>10</td>\n",
       "      <td>2020</td>\n",
       "    </tr>\n",
       "    <tr>\n",
       "      <th>2</th>\n",
       "      <td>15803</td>\n",
       "      <td>967254</td>\n",
       "      <td>57266</td>\n",
       "      <td>Loyalist</td>\n",
       "      <td>1 adult with kids</td>\n",
       "      <td>19-24</td>\n",
       "      <td>Pharmaceutical</td>\n",
       "      <td>national</td>\n",
       "      <td>Cold and flu</td>\n",
       "      <td>374</td>\n",
       "      <td>18/10/2020</td>\n",
       "      <td>1.68</td>\n",
       "      <td>18</td>\n",
       "      <td>10</td>\n",
       "      <td>2020</td>\n",
       "    </tr>\n",
       "    <tr>\n",
       "      <th>3</th>\n",
       "      <td>15803</td>\n",
       "      <td>1134222</td>\n",
       "      <td>57266</td>\n",
       "      <td>Loyalist</td>\n",
       "      <td>1 adult with kids</td>\n",
       "      <td>19-24</td>\n",
       "      <td>Grocery</td>\n",
       "      <td>private</td>\n",
       "      <td>Paper housewares</td>\n",
       "      <td>374</td>\n",
       "      <td>23/10/2020</td>\n",
       "      <td>2.59</td>\n",
       "      <td>23</td>\n",
       "      <td>10</td>\n",
       "      <td>2020</td>\n",
       "    </tr>\n",
       "    <tr>\n",
       "      <th>4</th>\n",
       "      <td>15803</td>\n",
       "      <td>1003421</td>\n",
       "      <td>57266</td>\n",
       "      <td>Loyalist</td>\n",
       "      <td>1 adult with kids</td>\n",
       "      <td>19-24</td>\n",
       "      <td>Grocery</td>\n",
       "      <td>national</td>\n",
       "      <td>Soup</td>\n",
       "      <td>374</td>\n",
       "      <td>27/10/2020</td>\n",
       "      <td>0.60</td>\n",
       "      <td>27</td>\n",
       "      <td>10</td>\n",
       "      <td>2020</td>\n",
       "    </tr>\n",
       "  </tbody>\n",
       "</table>\n",
       "</div>"
      ],
      "text/plain": [
       "   customer_id  product_id  basket_id   loyalty     household_type age_band  \\\n",
       "0        15803     1131974      57266  Loyalist  1 adult with kids    19-24   \n",
       "1        15803     1051516      57266  Loyalist  1 adult with kids    19-24   \n",
       "2        15803      967254      57266  Loyalist  1 adult with kids    19-24   \n",
       "3        15803     1134222      57266  Loyalist  1 adult with kids    19-24   \n",
       "4        15803     1003421      57266  Loyalist  1 adult with kids    19-24   \n",
       "\n",
       "       department     brand                commodity  store transaction_date  \\\n",
       "0         Grocery   private   Baked bread/buns/rolls    374        5/10/2020   \n",
       "1         Produce  national  Vegetables - all others    374       24/10/2020   \n",
       "2  Pharmaceutical  national             Cold and flu    374       18/10/2020   \n",
       "3         Grocery   private         Paper housewares    374       23/10/2020   \n",
       "4         Grocery  national                     Soup    374       27/10/2020   \n",
       "\n",
       "   sales transaction_day transaction_month transaction_year  \n",
       "0   0.99               5                10             2020  \n",
       "1   0.70              24                10             2020  \n",
       "2   1.68              18                10             2020  \n",
       "3   2.59              23                10             2020  \n",
       "4   0.60              27                10             2020  "
      ]
     },
     "execution_count": 62,
     "metadata": {},
     "output_type": "execute_result"
    }
   ],
   "source": [
    "df_plot1.head()"
   ]
  },
  {
   "cell_type": "markdown",
   "metadata": {},
   "source": [
    "DDMMYYYY is too granular for our need, so we go with YYYYMM"
   ]
  },
  {
   "cell_type": "code",
   "execution_count": 63,
   "metadata": {},
   "outputs": [
    {
     "name": "stderr",
     "output_type": "stream",
     "text": [
      "C:\\Users\\playe\\AppData\\Local\\Temp\\ipykernel_1792\\1883118727.py:2: UserWarning:\n",
      "\n",
      "Could not infer format, so each element will be parsed individually, falling back to `dateutil`. To ensure parsing is consistent and as-expected, please specify a format.\n",
      "\n"
     ]
    }
   ],
   "source": [
    "df_plot1[\"transaction_yearmonth\"] = df_plot1[\"transaction_month\"] + \"-\" + df_plot1[\"transaction_year\"]\n",
    "df_plot1[\"transaction_yearmonth\"] = pd.to_datetime(df_plot1['transaction_yearmonth']).dt.strftime('%Y-%m')\n"
   ]
  },
  {
   "cell_type": "markdown",
   "metadata": {},
   "source": [
    "The resultant dataframe from this transformation shows a customer's spending in that month, should one have bought anything."
   ]
  },
  {
   "cell_type": "code",
   "execution_count": 64,
   "metadata": {},
   "outputs": [
    {
     "data": {
      "text/html": [
       "<div>\n",
       "<style scoped>\n",
       "    .dataframe tbody tr th:only-of-type {\n",
       "        vertical-align: middle;\n",
       "    }\n",
       "\n",
       "    .dataframe tbody tr th {\n",
       "        vertical-align: top;\n",
       "    }\n",
       "\n",
       "    .dataframe thead th {\n",
       "        text-align: right;\n",
       "    }\n",
       "</style>\n",
       "<table border=\"1\" class=\"dataframe\">\n",
       "  <thead>\n",
       "    <tr style=\"text-align: right;\">\n",
       "      <th></th>\n",
       "      <th>transaction_yearmonth</th>\n",
       "      <th>loyalty</th>\n",
       "      <th>customer_id</th>\n",
       "      <th>sales</th>\n",
       "    </tr>\n",
       "  </thead>\n",
       "  <tbody>\n",
       "    <tr>\n",
       "      <th>0</th>\n",
       "      <td>2019-01</td>\n",
       "      <td>First Time Buyer</td>\n",
       "      <td>27872</td>\n",
       "      <td>44.18</td>\n",
       "    </tr>\n",
       "    <tr>\n",
       "      <th>1</th>\n",
       "      <td>2019-01</td>\n",
       "      <td>Loyalist</td>\n",
       "      <td>22115</td>\n",
       "      <td>75.77</td>\n",
       "    </tr>\n",
       "    <tr>\n",
       "      <th>2</th>\n",
       "      <td>2019-01</td>\n",
       "      <td>Loyalist</td>\n",
       "      <td>22317</td>\n",
       "      <td>105.69</td>\n",
       "    </tr>\n",
       "    <tr>\n",
       "      <th>3</th>\n",
       "      <td>2019-01</td>\n",
       "      <td>Loyalist</td>\n",
       "      <td>23057</td>\n",
       "      <td>74.51</td>\n",
       "    </tr>\n",
       "    <tr>\n",
       "      <th>4</th>\n",
       "      <td>2019-01</td>\n",
       "      <td>Loyalist</td>\n",
       "      <td>23876</td>\n",
       "      <td>60.62</td>\n",
       "    </tr>\n",
       "  </tbody>\n",
       "</table>\n",
       "</div>"
      ],
      "text/plain": [
       "  transaction_yearmonth           loyalty  customer_id   sales\n",
       "0               2019-01  First Time Buyer        27872   44.18\n",
       "1               2019-01          Loyalist        22115   75.77\n",
       "2               2019-01          Loyalist        22317  105.69\n",
       "3               2019-01          Loyalist        23057   74.51\n",
       "4               2019-01          Loyalist        23876   60.62"
      ]
     },
     "execution_count": 64,
     "metadata": {},
     "output_type": "execute_result"
    }
   ],
   "source": [
    "df_plot1 = df_plot1.groupby(by = [\"transaction_yearmonth\", \"loyalty\", \"customer_id\"])[\"sales\"].sum().reset_index()\n",
    "df_plot1.head()"
   ]
  },
  {
   "cell_type": "markdown",
   "metadata": {},
   "source": [
    "Such spending is averaged across the same month and the same loyalty class, so the sales here represents average spending per customer in that month in a particular loyalty class."
   ]
  },
  {
   "cell_type": "code",
   "execution_count": 65,
   "metadata": {},
   "outputs": [
    {
     "data": {
      "text/html": [
       "<div>\n",
       "<style scoped>\n",
       "    .dataframe tbody tr th:only-of-type {\n",
       "        vertical-align: middle;\n",
       "    }\n",
       "\n",
       "    .dataframe tbody tr th {\n",
       "        vertical-align: top;\n",
       "    }\n",
       "\n",
       "    .dataframe thead th {\n",
       "        text-align: right;\n",
       "    }\n",
       "</style>\n",
       "<table border=\"1\" class=\"dataframe\">\n",
       "  <thead>\n",
       "    <tr style=\"text-align: right;\">\n",
       "      <th></th>\n",
       "      <th>transaction_yearmonth</th>\n",
       "      <th>loyalty</th>\n",
       "      <th>sales</th>\n",
       "    </tr>\n",
       "  </thead>\n",
       "  <tbody>\n",
       "    <tr>\n",
       "      <th>0</th>\n",
       "      <td>2019-01</td>\n",
       "      <td>First Time Buyer</td>\n",
       "      <td>44.180000</td>\n",
       "    </tr>\n",
       "    <tr>\n",
       "      <th>1</th>\n",
       "      <td>2019-01</td>\n",
       "      <td>Loyalist</td>\n",
       "      <td>75.372105</td>\n",
       "    </tr>\n",
       "    <tr>\n",
       "      <th>2</th>\n",
       "      <td>2019-01</td>\n",
       "      <td>Promiscuous</td>\n",
       "      <td>70.586667</td>\n",
       "    </tr>\n",
       "    <tr>\n",
       "      <th>3</th>\n",
       "      <td>2019-02</td>\n",
       "      <td>First Time Buyer</td>\n",
       "      <td>9.990000</td>\n",
       "    </tr>\n",
       "    <tr>\n",
       "      <th>4</th>\n",
       "      <td>2019-02</td>\n",
       "      <td>Loyalist</td>\n",
       "      <td>69.360882</td>\n",
       "    </tr>\n",
       "  </tbody>\n",
       "</table>\n",
       "</div>"
      ],
      "text/plain": [
       "  transaction_yearmonth           loyalty      sales\n",
       "0               2019-01  First Time Buyer  44.180000\n",
       "1               2019-01          Loyalist  75.372105\n",
       "2               2019-01       Promiscuous  70.586667\n",
       "3               2019-02  First Time Buyer   9.990000\n",
       "4               2019-02          Loyalist  69.360882"
      ]
     },
     "execution_count": 65,
     "metadata": {},
     "output_type": "execute_result"
    }
   ],
   "source": [
    "df_plot1 = df_plot1.groupby(by = [\"transaction_yearmonth\", \"loyalty\"])[\"sales\"].mean().reset_index()\n",
    "df_plot1.head()"
   ]
  },
  {
   "cell_type": "markdown",
   "metadata": {},
   "source": [
    "**Plotly** is used to produce graphs as it is both interactive and visually appealing."
   ]
  },
  {
   "cell_type": "code",
   "execution_count": 66,
   "metadata": {},
   "outputs": [
    {
     "data": {
      "application/vnd.plotly.v1+json": {
       "config": {
        "plotlyServerURL": "https://plot.ly"
       },
       "data": [
        {
         "hovertemplate": "loyalty=First Time Buyer<br>transaction_yearmonth=%{x}<br>sales=%{y}<extra></extra>",
         "legendgroup": "First Time Buyer",
         "line": {
          "color": "#636efa",
          "dash": "solid"
         },
         "marker": {
          "symbol": "circle"
         },
         "mode": "lines",
         "name": "First Time Buyer",
         "orientation": "v",
         "showlegend": true,
         "type": "scatter",
         "x": [
          "2019-01",
          "2019-02",
          "2019-04",
          "2019-06",
          "2019-07",
          "2019-08",
          "2019-09",
          "2019-10",
          "2019-12",
          "2020-03",
          "2020-07",
          "2020-08",
          "2020-09",
          "2020-10",
          "2020-11",
          "2020-12",
          "2021-01",
          "2021-02",
          "2021-07",
          "2021-08",
          "2021-11",
          "2021-12",
          "2022-02",
          "2022-04",
          "2022-05"
         ],
         "xaxis": "x",
         "y": [
          44.18,
          9.99,
          94.92,
          92.42500000000001,
          63.957499999999996,
          74.96333333333332,
          73.72,
          83.715,
          91.23,
          70.44,
          71.7775,
          30.380000000000003,
          64.51,
          73.27,
          74.11,
          69.06,
          86.86,
          61.58,
          59.730000000000004,
          60.675,
          54.96,
          61.29,
          36.74,
          89.73,
          58.15
         ],
         "yaxis": "y"
        },
        {
         "hovertemplate": "loyalty=Loyalist<br>transaction_yearmonth=%{x}<br>sales=%{y}<extra></extra>",
         "legendgroup": "Loyalist",
         "line": {
          "color": "#EF553B",
          "dash": "solid"
         },
         "marker": {
          "symbol": "circle"
         },
         "mode": "lines",
         "name": "Loyalist",
         "orientation": "v",
         "showlegend": true,
         "type": "scatter",
         "x": [
          "2019-01",
          "2019-02",
          "2019-03",
          "2019-04",
          "2019-05",
          "2019-06",
          "2019-07",
          "2019-08",
          "2019-09",
          "2019-10",
          "2019-11",
          "2019-12",
          "2020-01",
          "2020-02",
          "2020-03",
          "2020-04",
          "2020-05",
          "2020-06",
          "2020-07",
          "2020-08",
          "2020-09",
          "2020-10",
          "2020-11",
          "2020-12",
          "2021-01",
          "2021-02",
          "2021-03",
          "2021-04",
          "2021-05",
          "2021-06",
          "2021-07",
          "2021-08",
          "2021-09",
          "2021-10",
          "2021-11",
          "2021-12",
          "2022-01",
          "2022-02",
          "2022-03",
          "2022-04",
          "2022-05"
         ],
         "xaxis": "x",
         "y": [
          75.37210526315789,
          69.36088235294118,
          73.48466666666667,
          82.1339393939394,
          81.73413793103448,
          75.99878787878788,
          78.25999999999999,
          69.65205882352942,
          65.45464285714286,
          72.731875,
          69.917,
          72.34769230769231,
          69.59166666666667,
          74.04935483870969,
          75.19200000000001,
          72.59685714285713,
          75.98833333333333,
          76.00354838709679,
          78.93527272727272,
          63.95894736842106,
          68.38925925925926,
          67.64956521739131,
          69.29882352941176,
          72.28952380952381,
          70.91206896551725,
          70.98861111111111,
          71.74,
          73.82975609756097,
          72.88461538461539,
          77.80678571428572,
          77.01771929824562,
          68.62690476190475,
          65.86428571428571,
          61.6212,
          68.86714285714285,
          73.78714285714285,
          71.96640000000001,
          67.52538461538461,
          69.22875,
          74.70052631578947,
          74.5421052631579
         ],
         "yaxis": "y"
        },
        {
         "hovertemplate": "loyalty=Promiscuous<br>transaction_yearmonth=%{x}<br>sales=%{y}<extra></extra>",
         "legendgroup": "Promiscuous",
         "line": {
          "color": "#00cc96",
          "dash": "solid"
         },
         "marker": {
          "symbol": "circle"
         },
         "mode": "lines",
         "name": "Promiscuous",
         "orientation": "v",
         "showlegend": true,
         "type": "scatter",
         "x": [
          "2019-01",
          "2019-02",
          "2019-03",
          "2019-04",
          "2019-05",
          "2019-06",
          "2019-07",
          "2019-08",
          "2019-09",
          "2019-10",
          "2019-11",
          "2019-12",
          "2020-01",
          "2020-02",
          "2020-03",
          "2020-04",
          "2020-05",
          "2020-06",
          "2020-07",
          "2020-08",
          "2020-09",
          "2020-10",
          "2020-11",
          "2020-12",
          "2021-01",
          "2021-02",
          "2021-03",
          "2021-04",
          "2021-05",
          "2021-06",
          "2021-07",
          "2021-08",
          "2021-09",
          "2021-10",
          "2021-11",
          "2021-12",
          "2022-01",
          "2022-02",
          "2022-03",
          "2022-04",
          "2022-05"
         ],
         "xaxis": "x",
         "y": [
          70.58666666666666,
          67.3988,
          73.04767857142858,
          68.15863636363636,
          70.24681818181818,
          76.49949152542374,
          77.4332558139535,
          66.62396825396826,
          68.42958333333333,
          66.8446511627907,
          70.97229508196722,
          69.93984848484848,
          74.5234090909091,
          68.5823076923077,
          72.14270833333333,
          77.39274509803921,
          73.91434782608695,
          78.07559322033899,
          74.06342105263157,
          70.74142857142857,
          70.81760869565218,
          68.98185185185186,
          70.3422,
          71.48142857142857,
          72.16565217391305,
          65.26925,
          75.19155555555555,
          74.82422222222223,
          77.06361702127658,
          75.18590909090909,
          76.79923076923077,
          66.2064406779661,
          74.86125,
          72.08461538461539,
          71.0238775510204,
          69.16683333333334,
          71.73020833333334,
          70.0056862745098,
          75.424375,
          73.45127659574469,
          76.0275
         ],
         "yaxis": "y"
        }
       ],
       "layout": {
        "legend": {
         "title": {
          "text": "loyalty"
         },
         "tracegroupgap": 0
        },
        "template": {
         "data": {
          "bar": [
           {
            "error_x": {
             "color": "#2a3f5f"
            },
            "error_y": {
             "color": "#2a3f5f"
            },
            "marker": {
             "line": {
              "color": "#E5ECF6",
              "width": 0.5
             },
             "pattern": {
              "fillmode": "overlay",
              "size": 10,
              "solidity": 0.2
             }
            },
            "type": "bar"
           }
          ],
          "barpolar": [
           {
            "marker": {
             "line": {
              "color": "#E5ECF6",
              "width": 0.5
             },
             "pattern": {
              "fillmode": "overlay",
              "size": 10,
              "solidity": 0.2
             }
            },
            "type": "barpolar"
           }
          ],
          "carpet": [
           {
            "aaxis": {
             "endlinecolor": "#2a3f5f",
             "gridcolor": "white",
             "linecolor": "white",
             "minorgridcolor": "white",
             "startlinecolor": "#2a3f5f"
            },
            "baxis": {
             "endlinecolor": "#2a3f5f",
             "gridcolor": "white",
             "linecolor": "white",
             "minorgridcolor": "white",
             "startlinecolor": "#2a3f5f"
            },
            "type": "carpet"
           }
          ],
          "choropleth": [
           {
            "colorbar": {
             "outlinewidth": 0,
             "ticks": ""
            },
            "type": "choropleth"
           }
          ],
          "contour": [
           {
            "colorbar": {
             "outlinewidth": 0,
             "ticks": ""
            },
            "colorscale": [
             [
              0,
              "#0d0887"
             ],
             [
              0.1111111111111111,
              "#46039f"
             ],
             [
              0.2222222222222222,
              "#7201a8"
             ],
             [
              0.3333333333333333,
              "#9c179e"
             ],
             [
              0.4444444444444444,
              "#bd3786"
             ],
             [
              0.5555555555555556,
              "#d8576b"
             ],
             [
              0.6666666666666666,
              "#ed7953"
             ],
             [
              0.7777777777777778,
              "#fb9f3a"
             ],
             [
              0.8888888888888888,
              "#fdca26"
             ],
             [
              1,
              "#f0f921"
             ]
            ],
            "type": "contour"
           }
          ],
          "contourcarpet": [
           {
            "colorbar": {
             "outlinewidth": 0,
             "ticks": ""
            },
            "type": "contourcarpet"
           }
          ],
          "heatmap": [
           {
            "colorbar": {
             "outlinewidth": 0,
             "ticks": ""
            },
            "colorscale": [
             [
              0,
              "#0d0887"
             ],
             [
              0.1111111111111111,
              "#46039f"
             ],
             [
              0.2222222222222222,
              "#7201a8"
             ],
             [
              0.3333333333333333,
              "#9c179e"
             ],
             [
              0.4444444444444444,
              "#bd3786"
             ],
             [
              0.5555555555555556,
              "#d8576b"
             ],
             [
              0.6666666666666666,
              "#ed7953"
             ],
             [
              0.7777777777777778,
              "#fb9f3a"
             ],
             [
              0.8888888888888888,
              "#fdca26"
             ],
             [
              1,
              "#f0f921"
             ]
            ],
            "type": "heatmap"
           }
          ],
          "heatmapgl": [
           {
            "colorbar": {
             "outlinewidth": 0,
             "ticks": ""
            },
            "colorscale": [
             [
              0,
              "#0d0887"
             ],
             [
              0.1111111111111111,
              "#46039f"
             ],
             [
              0.2222222222222222,
              "#7201a8"
             ],
             [
              0.3333333333333333,
              "#9c179e"
             ],
             [
              0.4444444444444444,
              "#bd3786"
             ],
             [
              0.5555555555555556,
              "#d8576b"
             ],
             [
              0.6666666666666666,
              "#ed7953"
             ],
             [
              0.7777777777777778,
              "#fb9f3a"
             ],
             [
              0.8888888888888888,
              "#fdca26"
             ],
             [
              1,
              "#f0f921"
             ]
            ],
            "type": "heatmapgl"
           }
          ],
          "histogram": [
           {
            "marker": {
             "pattern": {
              "fillmode": "overlay",
              "size": 10,
              "solidity": 0.2
             }
            },
            "type": "histogram"
           }
          ],
          "histogram2d": [
           {
            "colorbar": {
             "outlinewidth": 0,
             "ticks": ""
            },
            "colorscale": [
             [
              0,
              "#0d0887"
             ],
             [
              0.1111111111111111,
              "#46039f"
             ],
             [
              0.2222222222222222,
              "#7201a8"
             ],
             [
              0.3333333333333333,
              "#9c179e"
             ],
             [
              0.4444444444444444,
              "#bd3786"
             ],
             [
              0.5555555555555556,
              "#d8576b"
             ],
             [
              0.6666666666666666,
              "#ed7953"
             ],
             [
              0.7777777777777778,
              "#fb9f3a"
             ],
             [
              0.8888888888888888,
              "#fdca26"
             ],
             [
              1,
              "#f0f921"
             ]
            ],
            "type": "histogram2d"
           }
          ],
          "histogram2dcontour": [
           {
            "colorbar": {
             "outlinewidth": 0,
             "ticks": ""
            },
            "colorscale": [
             [
              0,
              "#0d0887"
             ],
             [
              0.1111111111111111,
              "#46039f"
             ],
             [
              0.2222222222222222,
              "#7201a8"
             ],
             [
              0.3333333333333333,
              "#9c179e"
             ],
             [
              0.4444444444444444,
              "#bd3786"
             ],
             [
              0.5555555555555556,
              "#d8576b"
             ],
             [
              0.6666666666666666,
              "#ed7953"
             ],
             [
              0.7777777777777778,
              "#fb9f3a"
             ],
             [
              0.8888888888888888,
              "#fdca26"
             ],
             [
              1,
              "#f0f921"
             ]
            ],
            "type": "histogram2dcontour"
           }
          ],
          "mesh3d": [
           {
            "colorbar": {
             "outlinewidth": 0,
             "ticks": ""
            },
            "type": "mesh3d"
           }
          ],
          "parcoords": [
           {
            "line": {
             "colorbar": {
              "outlinewidth": 0,
              "ticks": ""
             }
            },
            "type": "parcoords"
           }
          ],
          "pie": [
           {
            "automargin": true,
            "type": "pie"
           }
          ],
          "scatter": [
           {
            "fillpattern": {
             "fillmode": "overlay",
             "size": 10,
             "solidity": 0.2
            },
            "type": "scatter"
           }
          ],
          "scatter3d": [
           {
            "line": {
             "colorbar": {
              "outlinewidth": 0,
              "ticks": ""
             }
            },
            "marker": {
             "colorbar": {
              "outlinewidth": 0,
              "ticks": ""
             }
            },
            "type": "scatter3d"
           }
          ],
          "scattercarpet": [
           {
            "marker": {
             "colorbar": {
              "outlinewidth": 0,
              "ticks": ""
             }
            },
            "type": "scattercarpet"
           }
          ],
          "scattergeo": [
           {
            "marker": {
             "colorbar": {
              "outlinewidth": 0,
              "ticks": ""
             }
            },
            "type": "scattergeo"
           }
          ],
          "scattergl": [
           {
            "marker": {
             "colorbar": {
              "outlinewidth": 0,
              "ticks": ""
             }
            },
            "type": "scattergl"
           }
          ],
          "scattermapbox": [
           {
            "marker": {
             "colorbar": {
              "outlinewidth": 0,
              "ticks": ""
             }
            },
            "type": "scattermapbox"
           }
          ],
          "scatterpolar": [
           {
            "marker": {
             "colorbar": {
              "outlinewidth": 0,
              "ticks": ""
             }
            },
            "type": "scatterpolar"
           }
          ],
          "scatterpolargl": [
           {
            "marker": {
             "colorbar": {
              "outlinewidth": 0,
              "ticks": ""
             }
            },
            "type": "scatterpolargl"
           }
          ],
          "scatterternary": [
           {
            "marker": {
             "colorbar": {
              "outlinewidth": 0,
              "ticks": ""
             }
            },
            "type": "scatterternary"
           }
          ],
          "surface": [
           {
            "colorbar": {
             "outlinewidth": 0,
             "ticks": ""
            },
            "colorscale": [
             [
              0,
              "#0d0887"
             ],
             [
              0.1111111111111111,
              "#46039f"
             ],
             [
              0.2222222222222222,
              "#7201a8"
             ],
             [
              0.3333333333333333,
              "#9c179e"
             ],
             [
              0.4444444444444444,
              "#bd3786"
             ],
             [
              0.5555555555555556,
              "#d8576b"
             ],
             [
              0.6666666666666666,
              "#ed7953"
             ],
             [
              0.7777777777777778,
              "#fb9f3a"
             ],
             [
              0.8888888888888888,
              "#fdca26"
             ],
             [
              1,
              "#f0f921"
             ]
            ],
            "type": "surface"
           }
          ],
          "table": [
           {
            "cells": {
             "fill": {
              "color": "#EBF0F8"
             },
             "line": {
              "color": "white"
             }
            },
            "header": {
             "fill": {
              "color": "#C8D4E3"
             },
             "line": {
              "color": "white"
             }
            },
            "type": "table"
           }
          ]
         },
         "layout": {
          "annotationdefaults": {
           "arrowcolor": "#2a3f5f",
           "arrowhead": 0,
           "arrowwidth": 1
          },
          "autotypenumbers": "strict",
          "coloraxis": {
           "colorbar": {
            "outlinewidth": 0,
            "ticks": ""
           }
          },
          "colorscale": {
           "diverging": [
            [
             0,
             "#8e0152"
            ],
            [
             0.1,
             "#c51b7d"
            ],
            [
             0.2,
             "#de77ae"
            ],
            [
             0.3,
             "#f1b6da"
            ],
            [
             0.4,
             "#fde0ef"
            ],
            [
             0.5,
             "#f7f7f7"
            ],
            [
             0.6,
             "#e6f5d0"
            ],
            [
             0.7,
             "#b8e186"
            ],
            [
             0.8,
             "#7fbc41"
            ],
            [
             0.9,
             "#4d9221"
            ],
            [
             1,
             "#276419"
            ]
           ],
           "sequential": [
            [
             0,
             "#0d0887"
            ],
            [
             0.1111111111111111,
             "#46039f"
            ],
            [
             0.2222222222222222,
             "#7201a8"
            ],
            [
             0.3333333333333333,
             "#9c179e"
            ],
            [
             0.4444444444444444,
             "#bd3786"
            ],
            [
             0.5555555555555556,
             "#d8576b"
            ],
            [
             0.6666666666666666,
             "#ed7953"
            ],
            [
             0.7777777777777778,
             "#fb9f3a"
            ],
            [
             0.8888888888888888,
             "#fdca26"
            ],
            [
             1,
             "#f0f921"
            ]
           ],
           "sequentialminus": [
            [
             0,
             "#0d0887"
            ],
            [
             0.1111111111111111,
             "#46039f"
            ],
            [
             0.2222222222222222,
             "#7201a8"
            ],
            [
             0.3333333333333333,
             "#9c179e"
            ],
            [
             0.4444444444444444,
             "#bd3786"
            ],
            [
             0.5555555555555556,
             "#d8576b"
            ],
            [
             0.6666666666666666,
             "#ed7953"
            ],
            [
             0.7777777777777778,
             "#fb9f3a"
            ],
            [
             0.8888888888888888,
             "#fdca26"
            ],
            [
             1,
             "#f0f921"
            ]
           ]
          },
          "colorway": [
           "#636efa",
           "#EF553B",
           "#00cc96",
           "#ab63fa",
           "#FFA15A",
           "#19d3f3",
           "#FF6692",
           "#B6E880",
           "#FF97FF",
           "#FECB52"
          ],
          "font": {
           "color": "#2a3f5f"
          },
          "geo": {
           "bgcolor": "white",
           "lakecolor": "white",
           "landcolor": "#E5ECF6",
           "showlakes": true,
           "showland": true,
           "subunitcolor": "white"
          },
          "hoverlabel": {
           "align": "left"
          },
          "hovermode": "closest",
          "mapbox": {
           "style": "light"
          },
          "paper_bgcolor": "white",
          "plot_bgcolor": "#E5ECF6",
          "polar": {
           "angularaxis": {
            "gridcolor": "white",
            "linecolor": "white",
            "ticks": ""
           },
           "bgcolor": "#E5ECF6",
           "radialaxis": {
            "gridcolor": "white",
            "linecolor": "white",
            "ticks": ""
           }
          },
          "scene": {
           "xaxis": {
            "backgroundcolor": "#E5ECF6",
            "gridcolor": "white",
            "gridwidth": 2,
            "linecolor": "white",
            "showbackground": true,
            "ticks": "",
            "zerolinecolor": "white"
           },
           "yaxis": {
            "backgroundcolor": "#E5ECF6",
            "gridcolor": "white",
            "gridwidth": 2,
            "linecolor": "white",
            "showbackground": true,
            "ticks": "",
            "zerolinecolor": "white"
           },
           "zaxis": {
            "backgroundcolor": "#E5ECF6",
            "gridcolor": "white",
            "gridwidth": 2,
            "linecolor": "white",
            "showbackground": true,
            "ticks": "",
            "zerolinecolor": "white"
           }
          },
          "shapedefaults": {
           "line": {
            "color": "#2a3f5f"
           }
          },
          "ternary": {
           "aaxis": {
            "gridcolor": "white",
            "linecolor": "white",
            "ticks": ""
           },
           "baxis": {
            "gridcolor": "white",
            "linecolor": "white",
            "ticks": ""
           },
           "bgcolor": "#E5ECF6",
           "caxis": {
            "gridcolor": "white",
            "linecolor": "white",
            "ticks": ""
           }
          },
          "title": {
           "x": 0.05
          },
          "xaxis": {
           "automargin": true,
           "gridcolor": "white",
           "linecolor": "white",
           "ticks": "",
           "title": {
            "standoff": 15
           },
           "zerolinecolor": "white",
           "zerolinewidth": 2
          },
          "yaxis": {
           "automargin": true,
           "gridcolor": "white",
           "linecolor": "white",
           "ticks": "",
           "title": {
            "standoff": 15
           },
           "zerolinecolor": "white",
           "zerolinewidth": 2
          }
         }
        },
        "title": {
         "text": "Average sales per customer by customer loyalty over the past 3 years"
        },
        "xaxis": {
         "anchor": "y",
         "domain": [
          0,
          1
         ],
         "title": {
          "text": "transaction_yearmonth"
         }
        },
        "yaxis": {
         "anchor": "x",
         "domain": [
          0,
          1
         ],
         "title": {
          "text": "sales"
         }
        }
       }
      }
     },
     "metadata": {},
     "output_type": "display_data"
    }
   ],
   "source": [
    "import plotly.express as px\n",
    "\n",
    "fig = px.line(df_plot1,\n",
    "              x = \"transaction_yearmonth\",\n",
    "              y = \"sales\",\n",
    "              color = \"loyalty\",\n",
    "              title = \"Average sales per customer by customer loyalty over the past 3 years\")\n",
    "fig.show()"
   ]
  },
  {
   "cell_type": "markdown",
   "metadata": {},
   "source": [
    "Now make another plot, but this time we wish to know total spending by a particular loyalty class in any given month."
   ]
  },
  {
   "cell_type": "code",
   "execution_count": 67,
   "metadata": {},
   "outputs": [
    {
     "name": "stderr",
     "output_type": "stream",
     "text": [
      "C:\\Users\\playe\\AppData\\Local\\Temp\\ipykernel_1792\\3458006447.py:4: UserWarning:\n",
      "\n",
      "Could not infer format, so each element will be parsed individually, falling back to `dateutil`. To ensure parsing is consistent and as-expected, please specify a format.\n",
      "\n"
     ]
    },
    {
     "data": {
      "text/html": [
       "<div>\n",
       "<style scoped>\n",
       "    .dataframe tbody tr th:only-of-type {\n",
       "        vertical-align: middle;\n",
       "    }\n",
       "\n",
       "    .dataframe tbody tr th {\n",
       "        vertical-align: top;\n",
       "    }\n",
       "\n",
       "    .dataframe thead th {\n",
       "        text-align: right;\n",
       "    }\n",
       "</style>\n",
       "<table border=\"1\" class=\"dataframe\">\n",
       "  <thead>\n",
       "    <tr style=\"text-align: right;\">\n",
       "      <th></th>\n",
       "      <th>transaction_yearmonth</th>\n",
       "      <th>loyalty</th>\n",
       "      <th>sales</th>\n",
       "    </tr>\n",
       "  </thead>\n",
       "  <tbody>\n",
       "    <tr>\n",
       "      <th>0</th>\n",
       "      <td>2019-01</td>\n",
       "      <td>First Time Buyer</td>\n",
       "      <td>44.18</td>\n",
       "    </tr>\n",
       "    <tr>\n",
       "      <th>1</th>\n",
       "      <td>2019-01</td>\n",
       "      <td>Loyalist</td>\n",
       "      <td>1432.07</td>\n",
       "    </tr>\n",
       "    <tr>\n",
       "      <th>2</th>\n",
       "      <td>2019-01</td>\n",
       "      <td>Promiscuous</td>\n",
       "      <td>3811.68</td>\n",
       "    </tr>\n",
       "    <tr>\n",
       "      <th>3</th>\n",
       "      <td>2019-02</td>\n",
       "      <td>First Time Buyer</td>\n",
       "      <td>9.99</td>\n",
       "    </tr>\n",
       "    <tr>\n",
       "      <th>4</th>\n",
       "      <td>2019-02</td>\n",
       "      <td>Loyalist</td>\n",
       "      <td>2358.27</td>\n",
       "    </tr>\n",
       "  </tbody>\n",
       "</table>\n",
       "</div>"
      ],
      "text/plain": [
       "  transaction_yearmonth           loyalty    sales\n",
       "0               2019-01  First Time Buyer    44.18\n",
       "1               2019-01          Loyalist  1432.07\n",
       "2               2019-01       Promiscuous  3811.68\n",
       "3               2019-02  First Time Buyer     9.99\n",
       "4               2019-02          Loyalist  2358.27"
      ]
     },
     "execution_count": 67,
     "metadata": {},
     "output_type": "execute_result"
    }
   ],
   "source": [
    "df_plot2 = df_proc.copy()\n",
    "df_plot2[[\"transaction_day\",\"transaction_month\",\"transaction_year\"]] = df_plot2[\"transaction_date\"].str.split(pat = \"/\", expand = True)\n",
    "df_plot2[\"transaction_yearmonth\"] = df_plot2[\"transaction_month\"] + \"-\" + df_plot2[\"transaction_year\"]\n",
    "df_plot2[\"transaction_yearmonth\"] = pd.to_datetime(df_plot2['transaction_yearmonth']).dt.strftime('%Y-%m')\n",
    "df_plot2 = df_plot2.groupby(by=[\"transaction_yearmonth\", \"loyalty\"])[\"sales\"].sum().reset_index()\n",
    "df_plot2.head()"
   ]
  },
  {
   "cell_type": "code",
   "execution_count": 68,
   "metadata": {},
   "outputs": [
    {
     "data": {
      "application/vnd.plotly.v1+json": {
       "config": {
        "plotlyServerURL": "https://plot.ly"
       },
       "data": [
        {
         "hovertemplate": "loyalty=First Time Buyer<br>transaction_yearmonth=%{x}<br>sales=%{y}<extra></extra>",
         "legendgroup": "First Time Buyer",
         "line": {
          "color": "#636efa",
          "dash": "solid"
         },
         "marker": {
          "symbol": "circle"
         },
         "mode": "lines",
         "name": "First Time Buyer",
         "orientation": "v",
         "showlegend": true,
         "type": "scatter",
         "x": [
          "2019-01",
          "2019-02",
          "2019-04",
          "2019-06",
          "2019-07",
          "2019-08",
          "2019-09",
          "2019-10",
          "2019-12",
          "2020-03",
          "2020-07",
          "2020-08",
          "2020-09",
          "2020-10",
          "2020-11",
          "2020-12",
          "2021-01",
          "2021-02",
          "2021-07",
          "2021-08",
          "2021-11",
          "2021-12",
          "2022-02",
          "2022-04",
          "2022-05"
         ],
         "xaxis": "x",
         "y": [
          44.18,
          9.99,
          94.92,
          184.85,
          255.83,
          224.89000000000001,
          147.44,
          167.43,
          182.46,
          211.32,
          287.11,
          30.380000000000003,
          258.04,
          73.27,
          222.33,
          207.18,
          86.86,
          123.16,
          119.46000000000001,
          121.35,
          164.88,
          122.58,
          36.74,
          89.73,
          58.15
         ],
         "yaxis": "y"
        },
        {
         "hovertemplate": "loyalty=Loyalist<br>transaction_yearmonth=%{x}<br>sales=%{y}<extra></extra>",
         "legendgroup": "Loyalist",
         "line": {
          "color": "#EF553B",
          "dash": "solid"
         },
         "marker": {
          "symbol": "circle"
         },
         "mode": "lines",
         "name": "Loyalist",
         "orientation": "v",
         "showlegend": true,
         "type": "scatter",
         "x": [
          "2019-01",
          "2019-02",
          "2019-03",
          "2019-04",
          "2019-05",
          "2019-06",
          "2019-07",
          "2019-08",
          "2019-09",
          "2019-10",
          "2019-11",
          "2019-12",
          "2020-01",
          "2020-02",
          "2020-03",
          "2020-04",
          "2020-05",
          "2020-06",
          "2020-07",
          "2020-08",
          "2020-09",
          "2020-10",
          "2020-11",
          "2020-12",
          "2021-01",
          "2021-02",
          "2021-03",
          "2021-04",
          "2021-05",
          "2021-06",
          "2021-07",
          "2021-08",
          "2021-09",
          "2021-10",
          "2021-11",
          "2021-12",
          "2022-01",
          "2022-02",
          "2022-03",
          "2022-04",
          "2022-05"
         ],
         "xaxis": "x",
         "y": [
          1432.07,
          2358.27,
          2204.54,
          2710.42,
          2370.29,
          2507.96,
          3521.7,
          2368.17,
          1832.73,
          2327.42,
          1398.34,
          1881.04,
          2087.75,
          2295.53,
          2255.76,
          2540.89,
          2279.65,
          2356.11,
          4341.4400000000005,
          2430.44,
          1846.51,
          1555.94,
          2356.16,
          3036.16,
          2056.45,
          2555.59,
          2726.12,
          3027.02,
          2842.5,
          4357.18,
          4390.01,
          2882.33,
          2305.25,
          1540.53,
          1928.28,
          3099.06,
          1799.16,
          2633.4900000000002,
          2215.32,
          2838.62,
          2832.6
         ],
         "yaxis": "y"
        },
        {
         "hovertemplate": "loyalty=Promiscuous<br>transaction_yearmonth=%{x}<br>sales=%{y}<extra></extra>",
         "legendgroup": "Promiscuous",
         "line": {
          "color": "#00cc96",
          "dash": "solid"
         },
         "marker": {
          "symbol": "circle"
         },
         "mode": "lines",
         "name": "Promiscuous",
         "orientation": "v",
         "showlegend": true,
         "type": "scatter",
         "x": [
          "2019-01",
          "2019-02",
          "2019-03",
          "2019-04",
          "2019-05",
          "2019-06",
          "2019-07",
          "2019-08",
          "2019-09",
          "2019-10",
          "2019-11",
          "2019-12",
          "2020-01",
          "2020-02",
          "2020-03",
          "2020-04",
          "2020-05",
          "2020-06",
          "2020-07",
          "2020-08",
          "2020-09",
          "2020-10",
          "2020-11",
          "2020-12",
          "2021-01",
          "2021-02",
          "2021-03",
          "2021-04",
          "2021-05",
          "2021-06",
          "2021-07",
          "2021-08",
          "2021-09",
          "2021-10",
          "2021-11",
          "2021-12",
          "2022-01",
          "2022-02",
          "2022-03",
          "2022-04",
          "2022-05"
         ],
         "xaxis": "x",
         "y": [
          3811.68,
          3369.94,
          4090.67,
          2998.98,
          3090.86,
          4513.47,
          3329.63,
          4197.31,
          3284.62,
          2874.32,
          4329.31,
          4616.03,
          3279.03,
          3566.28,
          3462.85,
          3947.03,
          3400.06,
          4606.46,
          2814.41,
          3961.52,
          3257.61,
          3725.02,
          3517.11,
          4002.96,
          3319.62,
          2610.77,
          3383.62,
          3367.09,
          3621.9900000000002,
          3308.18,
          1996.78,
          3906.1800000000003,
          2994.45,
          3748.4,
          3480.17,
          4150.01,
          3443.05,
          3570.29,
          3620.37,
          3452.21,
          3345.21
         ],
         "yaxis": "y"
        }
       ],
       "layout": {
        "legend": {
         "title": {
          "text": "loyalty"
         },
         "tracegroupgap": 0
        },
        "template": {
         "data": {
          "bar": [
           {
            "error_x": {
             "color": "#2a3f5f"
            },
            "error_y": {
             "color": "#2a3f5f"
            },
            "marker": {
             "line": {
              "color": "#E5ECF6",
              "width": 0.5
             },
             "pattern": {
              "fillmode": "overlay",
              "size": 10,
              "solidity": 0.2
             }
            },
            "type": "bar"
           }
          ],
          "barpolar": [
           {
            "marker": {
             "line": {
              "color": "#E5ECF6",
              "width": 0.5
             },
             "pattern": {
              "fillmode": "overlay",
              "size": 10,
              "solidity": 0.2
             }
            },
            "type": "barpolar"
           }
          ],
          "carpet": [
           {
            "aaxis": {
             "endlinecolor": "#2a3f5f",
             "gridcolor": "white",
             "linecolor": "white",
             "minorgridcolor": "white",
             "startlinecolor": "#2a3f5f"
            },
            "baxis": {
             "endlinecolor": "#2a3f5f",
             "gridcolor": "white",
             "linecolor": "white",
             "minorgridcolor": "white",
             "startlinecolor": "#2a3f5f"
            },
            "type": "carpet"
           }
          ],
          "choropleth": [
           {
            "colorbar": {
             "outlinewidth": 0,
             "ticks": ""
            },
            "type": "choropleth"
           }
          ],
          "contour": [
           {
            "colorbar": {
             "outlinewidth": 0,
             "ticks": ""
            },
            "colorscale": [
             [
              0,
              "#0d0887"
             ],
             [
              0.1111111111111111,
              "#46039f"
             ],
             [
              0.2222222222222222,
              "#7201a8"
             ],
             [
              0.3333333333333333,
              "#9c179e"
             ],
             [
              0.4444444444444444,
              "#bd3786"
             ],
             [
              0.5555555555555556,
              "#d8576b"
             ],
             [
              0.6666666666666666,
              "#ed7953"
             ],
             [
              0.7777777777777778,
              "#fb9f3a"
             ],
             [
              0.8888888888888888,
              "#fdca26"
             ],
             [
              1,
              "#f0f921"
             ]
            ],
            "type": "contour"
           }
          ],
          "contourcarpet": [
           {
            "colorbar": {
             "outlinewidth": 0,
             "ticks": ""
            },
            "type": "contourcarpet"
           }
          ],
          "heatmap": [
           {
            "colorbar": {
             "outlinewidth": 0,
             "ticks": ""
            },
            "colorscale": [
             [
              0,
              "#0d0887"
             ],
             [
              0.1111111111111111,
              "#46039f"
             ],
             [
              0.2222222222222222,
              "#7201a8"
             ],
             [
              0.3333333333333333,
              "#9c179e"
             ],
             [
              0.4444444444444444,
              "#bd3786"
             ],
             [
              0.5555555555555556,
              "#d8576b"
             ],
             [
              0.6666666666666666,
              "#ed7953"
             ],
             [
              0.7777777777777778,
              "#fb9f3a"
             ],
             [
              0.8888888888888888,
              "#fdca26"
             ],
             [
              1,
              "#f0f921"
             ]
            ],
            "type": "heatmap"
           }
          ],
          "heatmapgl": [
           {
            "colorbar": {
             "outlinewidth": 0,
             "ticks": ""
            },
            "colorscale": [
             [
              0,
              "#0d0887"
             ],
             [
              0.1111111111111111,
              "#46039f"
             ],
             [
              0.2222222222222222,
              "#7201a8"
             ],
             [
              0.3333333333333333,
              "#9c179e"
             ],
             [
              0.4444444444444444,
              "#bd3786"
             ],
             [
              0.5555555555555556,
              "#d8576b"
             ],
             [
              0.6666666666666666,
              "#ed7953"
             ],
             [
              0.7777777777777778,
              "#fb9f3a"
             ],
             [
              0.8888888888888888,
              "#fdca26"
             ],
             [
              1,
              "#f0f921"
             ]
            ],
            "type": "heatmapgl"
           }
          ],
          "histogram": [
           {
            "marker": {
             "pattern": {
              "fillmode": "overlay",
              "size": 10,
              "solidity": 0.2
             }
            },
            "type": "histogram"
           }
          ],
          "histogram2d": [
           {
            "colorbar": {
             "outlinewidth": 0,
             "ticks": ""
            },
            "colorscale": [
             [
              0,
              "#0d0887"
             ],
             [
              0.1111111111111111,
              "#46039f"
             ],
             [
              0.2222222222222222,
              "#7201a8"
             ],
             [
              0.3333333333333333,
              "#9c179e"
             ],
             [
              0.4444444444444444,
              "#bd3786"
             ],
             [
              0.5555555555555556,
              "#d8576b"
             ],
             [
              0.6666666666666666,
              "#ed7953"
             ],
             [
              0.7777777777777778,
              "#fb9f3a"
             ],
             [
              0.8888888888888888,
              "#fdca26"
             ],
             [
              1,
              "#f0f921"
             ]
            ],
            "type": "histogram2d"
           }
          ],
          "histogram2dcontour": [
           {
            "colorbar": {
             "outlinewidth": 0,
             "ticks": ""
            },
            "colorscale": [
             [
              0,
              "#0d0887"
             ],
             [
              0.1111111111111111,
              "#46039f"
             ],
             [
              0.2222222222222222,
              "#7201a8"
             ],
             [
              0.3333333333333333,
              "#9c179e"
             ],
             [
              0.4444444444444444,
              "#bd3786"
             ],
             [
              0.5555555555555556,
              "#d8576b"
             ],
             [
              0.6666666666666666,
              "#ed7953"
             ],
             [
              0.7777777777777778,
              "#fb9f3a"
             ],
             [
              0.8888888888888888,
              "#fdca26"
             ],
             [
              1,
              "#f0f921"
             ]
            ],
            "type": "histogram2dcontour"
           }
          ],
          "mesh3d": [
           {
            "colorbar": {
             "outlinewidth": 0,
             "ticks": ""
            },
            "type": "mesh3d"
           }
          ],
          "parcoords": [
           {
            "line": {
             "colorbar": {
              "outlinewidth": 0,
              "ticks": ""
             }
            },
            "type": "parcoords"
           }
          ],
          "pie": [
           {
            "automargin": true,
            "type": "pie"
           }
          ],
          "scatter": [
           {
            "fillpattern": {
             "fillmode": "overlay",
             "size": 10,
             "solidity": 0.2
            },
            "type": "scatter"
           }
          ],
          "scatter3d": [
           {
            "line": {
             "colorbar": {
              "outlinewidth": 0,
              "ticks": ""
             }
            },
            "marker": {
             "colorbar": {
              "outlinewidth": 0,
              "ticks": ""
             }
            },
            "type": "scatter3d"
           }
          ],
          "scattercarpet": [
           {
            "marker": {
             "colorbar": {
              "outlinewidth": 0,
              "ticks": ""
             }
            },
            "type": "scattercarpet"
           }
          ],
          "scattergeo": [
           {
            "marker": {
             "colorbar": {
              "outlinewidth": 0,
              "ticks": ""
             }
            },
            "type": "scattergeo"
           }
          ],
          "scattergl": [
           {
            "marker": {
             "colorbar": {
              "outlinewidth": 0,
              "ticks": ""
             }
            },
            "type": "scattergl"
           }
          ],
          "scattermapbox": [
           {
            "marker": {
             "colorbar": {
              "outlinewidth": 0,
              "ticks": ""
             }
            },
            "type": "scattermapbox"
           }
          ],
          "scatterpolar": [
           {
            "marker": {
             "colorbar": {
              "outlinewidth": 0,
              "ticks": ""
             }
            },
            "type": "scatterpolar"
           }
          ],
          "scatterpolargl": [
           {
            "marker": {
             "colorbar": {
              "outlinewidth": 0,
              "ticks": ""
             }
            },
            "type": "scatterpolargl"
           }
          ],
          "scatterternary": [
           {
            "marker": {
             "colorbar": {
              "outlinewidth": 0,
              "ticks": ""
             }
            },
            "type": "scatterternary"
           }
          ],
          "surface": [
           {
            "colorbar": {
             "outlinewidth": 0,
             "ticks": ""
            },
            "colorscale": [
             [
              0,
              "#0d0887"
             ],
             [
              0.1111111111111111,
              "#46039f"
             ],
             [
              0.2222222222222222,
              "#7201a8"
             ],
             [
              0.3333333333333333,
              "#9c179e"
             ],
             [
              0.4444444444444444,
              "#bd3786"
             ],
             [
              0.5555555555555556,
              "#d8576b"
             ],
             [
              0.6666666666666666,
              "#ed7953"
             ],
             [
              0.7777777777777778,
              "#fb9f3a"
             ],
             [
              0.8888888888888888,
              "#fdca26"
             ],
             [
              1,
              "#f0f921"
             ]
            ],
            "type": "surface"
           }
          ],
          "table": [
           {
            "cells": {
             "fill": {
              "color": "#EBF0F8"
             },
             "line": {
              "color": "white"
             }
            },
            "header": {
             "fill": {
              "color": "#C8D4E3"
             },
             "line": {
              "color": "white"
             }
            },
            "type": "table"
           }
          ]
         },
         "layout": {
          "annotationdefaults": {
           "arrowcolor": "#2a3f5f",
           "arrowhead": 0,
           "arrowwidth": 1
          },
          "autotypenumbers": "strict",
          "coloraxis": {
           "colorbar": {
            "outlinewidth": 0,
            "ticks": ""
           }
          },
          "colorscale": {
           "diverging": [
            [
             0,
             "#8e0152"
            ],
            [
             0.1,
             "#c51b7d"
            ],
            [
             0.2,
             "#de77ae"
            ],
            [
             0.3,
             "#f1b6da"
            ],
            [
             0.4,
             "#fde0ef"
            ],
            [
             0.5,
             "#f7f7f7"
            ],
            [
             0.6,
             "#e6f5d0"
            ],
            [
             0.7,
             "#b8e186"
            ],
            [
             0.8,
             "#7fbc41"
            ],
            [
             0.9,
             "#4d9221"
            ],
            [
             1,
             "#276419"
            ]
           ],
           "sequential": [
            [
             0,
             "#0d0887"
            ],
            [
             0.1111111111111111,
             "#46039f"
            ],
            [
             0.2222222222222222,
             "#7201a8"
            ],
            [
             0.3333333333333333,
             "#9c179e"
            ],
            [
             0.4444444444444444,
             "#bd3786"
            ],
            [
             0.5555555555555556,
             "#d8576b"
            ],
            [
             0.6666666666666666,
             "#ed7953"
            ],
            [
             0.7777777777777778,
             "#fb9f3a"
            ],
            [
             0.8888888888888888,
             "#fdca26"
            ],
            [
             1,
             "#f0f921"
            ]
           ],
           "sequentialminus": [
            [
             0,
             "#0d0887"
            ],
            [
             0.1111111111111111,
             "#46039f"
            ],
            [
             0.2222222222222222,
             "#7201a8"
            ],
            [
             0.3333333333333333,
             "#9c179e"
            ],
            [
             0.4444444444444444,
             "#bd3786"
            ],
            [
             0.5555555555555556,
             "#d8576b"
            ],
            [
             0.6666666666666666,
             "#ed7953"
            ],
            [
             0.7777777777777778,
             "#fb9f3a"
            ],
            [
             0.8888888888888888,
             "#fdca26"
            ],
            [
             1,
             "#f0f921"
            ]
           ]
          },
          "colorway": [
           "#636efa",
           "#EF553B",
           "#00cc96",
           "#ab63fa",
           "#FFA15A",
           "#19d3f3",
           "#FF6692",
           "#B6E880",
           "#FF97FF",
           "#FECB52"
          ],
          "font": {
           "color": "#2a3f5f"
          },
          "geo": {
           "bgcolor": "white",
           "lakecolor": "white",
           "landcolor": "#E5ECF6",
           "showlakes": true,
           "showland": true,
           "subunitcolor": "white"
          },
          "hoverlabel": {
           "align": "left"
          },
          "hovermode": "closest",
          "mapbox": {
           "style": "light"
          },
          "paper_bgcolor": "white",
          "plot_bgcolor": "#E5ECF6",
          "polar": {
           "angularaxis": {
            "gridcolor": "white",
            "linecolor": "white",
            "ticks": ""
           },
           "bgcolor": "#E5ECF6",
           "radialaxis": {
            "gridcolor": "white",
            "linecolor": "white",
            "ticks": ""
           }
          },
          "scene": {
           "xaxis": {
            "backgroundcolor": "#E5ECF6",
            "gridcolor": "white",
            "gridwidth": 2,
            "linecolor": "white",
            "showbackground": true,
            "ticks": "",
            "zerolinecolor": "white"
           },
           "yaxis": {
            "backgroundcolor": "#E5ECF6",
            "gridcolor": "white",
            "gridwidth": 2,
            "linecolor": "white",
            "showbackground": true,
            "ticks": "",
            "zerolinecolor": "white"
           },
           "zaxis": {
            "backgroundcolor": "#E5ECF6",
            "gridcolor": "white",
            "gridwidth": 2,
            "linecolor": "white",
            "showbackground": true,
            "ticks": "",
            "zerolinecolor": "white"
           }
          },
          "shapedefaults": {
           "line": {
            "color": "#2a3f5f"
           }
          },
          "ternary": {
           "aaxis": {
            "gridcolor": "white",
            "linecolor": "white",
            "ticks": ""
           },
           "baxis": {
            "gridcolor": "white",
            "linecolor": "white",
            "ticks": ""
           },
           "bgcolor": "#E5ECF6",
           "caxis": {
            "gridcolor": "white",
            "linecolor": "white",
            "ticks": ""
           }
          },
          "title": {
           "x": 0.05
          },
          "xaxis": {
           "automargin": true,
           "gridcolor": "white",
           "linecolor": "white",
           "ticks": "",
           "title": {
            "standoff": 15
           },
           "zerolinecolor": "white",
           "zerolinewidth": 2
          },
          "yaxis": {
           "automargin": true,
           "gridcolor": "white",
           "linecolor": "white",
           "ticks": "",
           "title": {
            "standoff": 15
           },
           "zerolinecolor": "white",
           "zerolinewidth": 2
          }
         }
        },
        "title": {
         "text": "Total sales by customer loyalty over the past 3 years"
        },
        "xaxis": {
         "anchor": "y",
         "domain": [
          0,
          1
         ],
         "title": {
          "text": "transaction_yearmonth"
         }
        },
        "yaxis": {
         "anchor": "x",
         "domain": [
          0,
          1
         ],
         "title": {
          "text": "sales"
         }
        }
       }
      }
     },
     "metadata": {},
     "output_type": "display_data"
    }
   ],
   "source": [
    "fig = px.line(df_plot2,\n",
    "              x = \"transaction_yearmonth\",\n",
    "              y = \"sales\",\n",
    "              color = \"loyalty\",\n",
    "              title = \"Total sales by customer loyalty over the past 3 years\")\n",
    "fig.show()"
   ]
  },
  {
   "cell_type": "markdown",
   "metadata": {},
   "source": [
    "We can also mine the data to get frequently bought together items from this dataset - with the use of **mlxtend** package. Unfortunately the data does not come with **product_name** so **product_id** is used directly."
   ]
  },
  {
   "cell_type": "code",
   "execution_count": 70,
   "metadata": {},
   "outputs": [
    {
     "data": {
      "text/html": [
       "<div>\n",
       "<style scoped>\n",
       "    .dataframe tbody tr th:only-of-type {\n",
       "        vertical-align: middle;\n",
       "    }\n",
       "\n",
       "    .dataframe tbody tr th {\n",
       "        vertical-align: top;\n",
       "    }\n",
       "\n",
       "    .dataframe thead th {\n",
       "        text-align: right;\n",
       "    }\n",
       "</style>\n",
       "<table border=\"1\" class=\"dataframe\">\n",
       "  <thead>\n",
       "    <tr style=\"text-align: right;\">\n",
       "      <th>product_id</th>\n",
       "      <th>35082</th>\n",
       "      <th>74176</th>\n",
       "      <th>124385</th>\n",
       "      <th>140705</th>\n",
       "      <th>216216</th>\n",
       "      <th>431392</th>\n",
       "      <th>522435</th>\n",
       "      <th>714433</th>\n",
       "      <th>721164</th>\n",
       "      <th>777857</th>\n",
       "      <th>...</th>\n",
       "      <th>18005913</th>\n",
       "      <th>18006037</th>\n",
       "      <th>18022633</th>\n",
       "      <th>18038459</th>\n",
       "      <th>18055202</th>\n",
       "      <th>18055205</th>\n",
       "      <th>18055532</th>\n",
       "      <th>18184230</th>\n",
       "      <th>18185306</th>\n",
       "      <th>18203921</th>\n",
       "    </tr>\n",
       "    <tr>\n",
       "      <th>basket_id</th>\n",
       "      <th></th>\n",
       "      <th></th>\n",
       "      <th></th>\n",
       "      <th></th>\n",
       "      <th></th>\n",
       "      <th></th>\n",
       "      <th></th>\n",
       "      <th></th>\n",
       "      <th></th>\n",
       "      <th></th>\n",
       "      <th></th>\n",
       "      <th></th>\n",
       "      <th></th>\n",
       "      <th></th>\n",
       "      <th></th>\n",
       "      <th></th>\n",
       "      <th></th>\n",
       "      <th></th>\n",
       "      <th></th>\n",
       "      <th></th>\n",
       "      <th></th>\n",
       "    </tr>\n",
       "  </thead>\n",
       "  <tbody>\n",
       "    <tr>\n",
       "      <th>51964</th>\n",
       "      <td>0.0</td>\n",
       "      <td>0.0</td>\n",
       "      <td>0.0</td>\n",
       "      <td>0.0</td>\n",
       "      <td>0.0</td>\n",
       "      <td>0.0</td>\n",
       "      <td>0.0</td>\n",
       "      <td>0.0</td>\n",
       "      <td>0.0</td>\n",
       "      <td>0.0</td>\n",
       "      <td>...</td>\n",
       "      <td>0.0</td>\n",
       "      <td>0.0</td>\n",
       "      <td>0.0</td>\n",
       "      <td>0</td>\n",
       "      <td>0.0</td>\n",
       "      <td>0.0</td>\n",
       "      <td>0.0</td>\n",
       "      <td>0.0</td>\n",
       "      <td>0.0</td>\n",
       "      <td>0.0</td>\n",
       "    </tr>\n",
       "    <tr>\n",
       "      <th>51965</th>\n",
       "      <td>0.0</td>\n",
       "      <td>0.0</td>\n",
       "      <td>0.0</td>\n",
       "      <td>0.0</td>\n",
       "      <td>0.0</td>\n",
       "      <td>0.0</td>\n",
       "      <td>0.0</td>\n",
       "      <td>0.0</td>\n",
       "      <td>0.0</td>\n",
       "      <td>0.0</td>\n",
       "      <td>...</td>\n",
       "      <td>0.0</td>\n",
       "      <td>0.0</td>\n",
       "      <td>0.0</td>\n",
       "      <td>0</td>\n",
       "      <td>0.0</td>\n",
       "      <td>0.0</td>\n",
       "      <td>0.0</td>\n",
       "      <td>0.0</td>\n",
       "      <td>0.0</td>\n",
       "      <td>0.0</td>\n",
       "    </tr>\n",
       "    <tr>\n",
       "      <th>51966</th>\n",
       "      <td>0.0</td>\n",
       "      <td>0.0</td>\n",
       "      <td>0.0</td>\n",
       "      <td>0.0</td>\n",
       "      <td>0.0</td>\n",
       "      <td>0.0</td>\n",
       "      <td>0.0</td>\n",
       "      <td>0.0</td>\n",
       "      <td>0.0</td>\n",
       "      <td>0.0</td>\n",
       "      <td>...</td>\n",
       "      <td>0.0</td>\n",
       "      <td>0.0</td>\n",
       "      <td>0.0</td>\n",
       "      <td>0</td>\n",
       "      <td>0.0</td>\n",
       "      <td>0.0</td>\n",
       "      <td>0.0</td>\n",
       "      <td>0.0</td>\n",
       "      <td>0.0</td>\n",
       "      <td>0.0</td>\n",
       "    </tr>\n",
       "    <tr>\n",
       "      <th>51967</th>\n",
       "      <td>0.0</td>\n",
       "      <td>0.0</td>\n",
       "      <td>0.0</td>\n",
       "      <td>0.0</td>\n",
       "      <td>0.0</td>\n",
       "      <td>0.0</td>\n",
       "      <td>0.0</td>\n",
       "      <td>0.0</td>\n",
       "      <td>0.0</td>\n",
       "      <td>0.0</td>\n",
       "      <td>...</td>\n",
       "      <td>0.0</td>\n",
       "      <td>0.0</td>\n",
       "      <td>0.0</td>\n",
       "      <td>0</td>\n",
       "      <td>0.0</td>\n",
       "      <td>0.0</td>\n",
       "      <td>0.0</td>\n",
       "      <td>0.0</td>\n",
       "      <td>0.0</td>\n",
       "      <td>0.0</td>\n",
       "    </tr>\n",
       "    <tr>\n",
       "      <th>51968</th>\n",
       "      <td>0.0</td>\n",
       "      <td>0.0</td>\n",
       "      <td>0.0</td>\n",
       "      <td>0.0</td>\n",
       "      <td>0.0</td>\n",
       "      <td>0.0</td>\n",
       "      <td>0.0</td>\n",
       "      <td>0.0</td>\n",
       "      <td>0.0</td>\n",
       "      <td>0.0</td>\n",
       "      <td>...</td>\n",
       "      <td>0.0</td>\n",
       "      <td>0.0</td>\n",
       "      <td>0.0</td>\n",
       "      <td>0</td>\n",
       "      <td>0.0</td>\n",
       "      <td>0.0</td>\n",
       "      <td>0.0</td>\n",
       "      <td>0.0</td>\n",
       "      <td>0.0</td>\n",
       "      <td>0.0</td>\n",
       "    </tr>\n",
       "  </tbody>\n",
       "</table>\n",
       "<p>5 rows × 9484 columns</p>\n",
       "</div>"
      ],
      "text/plain": [
       "product_id  35082     74176     124385    140705    216216    431392    \\\n",
       "basket_id                                                                \n",
       "51964            0.0       0.0       0.0       0.0       0.0       0.0   \n",
       "51965            0.0       0.0       0.0       0.0       0.0       0.0   \n",
       "51966            0.0       0.0       0.0       0.0       0.0       0.0   \n",
       "51967            0.0       0.0       0.0       0.0       0.0       0.0   \n",
       "51968            0.0       0.0       0.0       0.0       0.0       0.0   \n",
       "\n",
       "product_id  522435    714433    721164    777857    ...  18005913  18006037  \\\n",
       "basket_id                                           ...                       \n",
       "51964            0.0       0.0       0.0       0.0  ...       0.0       0.0   \n",
       "51965            0.0       0.0       0.0       0.0  ...       0.0       0.0   \n",
       "51966            0.0       0.0       0.0       0.0  ...       0.0       0.0   \n",
       "51967            0.0       0.0       0.0       0.0  ...       0.0       0.0   \n",
       "51968            0.0       0.0       0.0       0.0  ...       0.0       0.0   \n",
       "\n",
       "product_id  18022633  18038459  18055202  18055205  18055532  18184230  \\\n",
       "basket_id                                                                \n",
       "51964            0.0         0       0.0       0.0       0.0       0.0   \n",
       "51965            0.0         0       0.0       0.0       0.0       0.0   \n",
       "51966            0.0         0       0.0       0.0       0.0       0.0   \n",
       "51967            0.0         0       0.0       0.0       0.0       0.0   \n",
       "51968            0.0         0       0.0       0.0       0.0       0.0   \n",
       "\n",
       "product_id  18185306  18203921  \n",
       "basket_id                       \n",
       "51964            0.0       0.0  \n",
       "51965            0.0       0.0  \n",
       "51966            0.0       0.0  \n",
       "51967            0.0       0.0  \n",
       "51968            0.0       0.0  \n",
       "\n",
       "[5 rows x 9484 columns]"
      ]
     },
     "execution_count": 70,
     "metadata": {},
     "output_type": "execute_result"
    }
   ],
   "source": [
    "from mlxtend.frequent_patterns import apriori\n",
    "from mlxtend.frequent_patterns import association_rules\n",
    "\n",
    "basket = pd.pivot_table(data = df_proc,\n",
    "                        index = 'basket_id',\n",
    "                        columns = 'product_id',\n",
    "                        values = 'sales',\n",
    "                        aggfunc = 'sum',\n",
    "                        fill_value = 0)\n",
    "basket.head()"
   ]
  },
  {
   "cell_type": "markdown",
   "metadata": {},
   "source": [
    "If an item is bought, label it as 1 rather than having the amount spent in the sparse matrix."
   ]
  },
  {
   "cell_type": "code",
   "execution_count": 71,
   "metadata": {},
   "outputs": [],
   "source": [
    "for col in basket:\n",
    "    basket[col] = np.where(basket[col] > 0, 1, 0)"
   ]
  },
  {
   "cell_type": "code",
   "execution_count": 76,
   "metadata": {},
   "outputs": [
    {
     "data": {
      "text/html": [
       "<div>\n",
       "<style scoped>\n",
       "    .dataframe tbody tr th:only-of-type {\n",
       "        vertical-align: middle;\n",
       "    }\n",
       "\n",
       "    .dataframe tbody tr th {\n",
       "        vertical-align: top;\n",
       "    }\n",
       "\n",
       "    .dataframe thead th {\n",
       "        text-align: right;\n",
       "    }\n",
       "</style>\n",
       "<table border=\"1\" class=\"dataframe\">\n",
       "  <thead>\n",
       "    <tr style=\"text-align: right;\">\n",
       "      <th>product_id</th>\n",
       "      <th>35082</th>\n",
       "      <th>74176</th>\n",
       "      <th>124385</th>\n",
       "      <th>140705</th>\n",
       "      <th>216216</th>\n",
       "      <th>431392</th>\n",
       "      <th>522435</th>\n",
       "      <th>714433</th>\n",
       "      <th>721164</th>\n",
       "      <th>777857</th>\n",
       "      <th>...</th>\n",
       "      <th>18005913</th>\n",
       "      <th>18006037</th>\n",
       "      <th>18022633</th>\n",
       "      <th>18038459</th>\n",
       "      <th>18055202</th>\n",
       "      <th>18055205</th>\n",
       "      <th>18055532</th>\n",
       "      <th>18184230</th>\n",
       "      <th>18185306</th>\n",
       "      <th>18203921</th>\n",
       "    </tr>\n",
       "    <tr>\n",
       "      <th>basket_id</th>\n",
       "      <th></th>\n",
       "      <th></th>\n",
       "      <th></th>\n",
       "      <th></th>\n",
       "      <th></th>\n",
       "      <th></th>\n",
       "      <th></th>\n",
       "      <th></th>\n",
       "      <th></th>\n",
       "      <th></th>\n",
       "      <th></th>\n",
       "      <th></th>\n",
       "      <th></th>\n",
       "      <th></th>\n",
       "      <th></th>\n",
       "      <th></th>\n",
       "      <th></th>\n",
       "      <th></th>\n",
       "      <th></th>\n",
       "      <th></th>\n",
       "      <th></th>\n",
       "    </tr>\n",
       "  </thead>\n",
       "  <tbody>\n",
       "    <tr>\n",
       "      <th>51964</th>\n",
       "      <td>0</td>\n",
       "      <td>0</td>\n",
       "      <td>0</td>\n",
       "      <td>0</td>\n",
       "      <td>0</td>\n",
       "      <td>0</td>\n",
       "      <td>0</td>\n",
       "      <td>0</td>\n",
       "      <td>0</td>\n",
       "      <td>0</td>\n",
       "      <td>...</td>\n",
       "      <td>0</td>\n",
       "      <td>0</td>\n",
       "      <td>0</td>\n",
       "      <td>0</td>\n",
       "      <td>0</td>\n",
       "      <td>0</td>\n",
       "      <td>0</td>\n",
       "      <td>0</td>\n",
       "      <td>0</td>\n",
       "      <td>0</td>\n",
       "    </tr>\n",
       "    <tr>\n",
       "      <th>51965</th>\n",
       "      <td>0</td>\n",
       "      <td>0</td>\n",
       "      <td>0</td>\n",
       "      <td>0</td>\n",
       "      <td>0</td>\n",
       "      <td>0</td>\n",
       "      <td>0</td>\n",
       "      <td>0</td>\n",
       "      <td>0</td>\n",
       "      <td>0</td>\n",
       "      <td>...</td>\n",
       "      <td>0</td>\n",
       "      <td>0</td>\n",
       "      <td>0</td>\n",
       "      <td>0</td>\n",
       "      <td>0</td>\n",
       "      <td>0</td>\n",
       "      <td>0</td>\n",
       "      <td>0</td>\n",
       "      <td>0</td>\n",
       "      <td>0</td>\n",
       "    </tr>\n",
       "    <tr>\n",
       "      <th>51966</th>\n",
       "      <td>0</td>\n",
       "      <td>0</td>\n",
       "      <td>0</td>\n",
       "      <td>0</td>\n",
       "      <td>0</td>\n",
       "      <td>0</td>\n",
       "      <td>0</td>\n",
       "      <td>0</td>\n",
       "      <td>0</td>\n",
       "      <td>0</td>\n",
       "      <td>...</td>\n",
       "      <td>0</td>\n",
       "      <td>0</td>\n",
       "      <td>0</td>\n",
       "      <td>0</td>\n",
       "      <td>0</td>\n",
       "      <td>0</td>\n",
       "      <td>0</td>\n",
       "      <td>0</td>\n",
       "      <td>0</td>\n",
       "      <td>0</td>\n",
       "    </tr>\n",
       "    <tr>\n",
       "      <th>51967</th>\n",
       "      <td>0</td>\n",
       "      <td>0</td>\n",
       "      <td>0</td>\n",
       "      <td>0</td>\n",
       "      <td>0</td>\n",
       "      <td>0</td>\n",
       "      <td>0</td>\n",
       "      <td>0</td>\n",
       "      <td>0</td>\n",
       "      <td>0</td>\n",
       "      <td>...</td>\n",
       "      <td>0</td>\n",
       "      <td>0</td>\n",
       "      <td>0</td>\n",
       "      <td>0</td>\n",
       "      <td>0</td>\n",
       "      <td>0</td>\n",
       "      <td>0</td>\n",
       "      <td>0</td>\n",
       "      <td>0</td>\n",
       "      <td>0</td>\n",
       "    </tr>\n",
       "    <tr>\n",
       "      <th>51968</th>\n",
       "      <td>0</td>\n",
       "      <td>0</td>\n",
       "      <td>0</td>\n",
       "      <td>0</td>\n",
       "      <td>0</td>\n",
       "      <td>0</td>\n",
       "      <td>0</td>\n",
       "      <td>0</td>\n",
       "      <td>0</td>\n",
       "      <td>0</td>\n",
       "      <td>...</td>\n",
       "      <td>0</td>\n",
       "      <td>0</td>\n",
       "      <td>0</td>\n",
       "      <td>0</td>\n",
       "      <td>0</td>\n",
       "      <td>0</td>\n",
       "      <td>0</td>\n",
       "      <td>0</td>\n",
       "      <td>0</td>\n",
       "      <td>0</td>\n",
       "    </tr>\n",
       "    <tr>\n",
       "      <th>...</th>\n",
       "      <td>...</td>\n",
       "      <td>...</td>\n",
       "      <td>...</td>\n",
       "      <td>...</td>\n",
       "      <td>...</td>\n",
       "      <td>...</td>\n",
       "      <td>...</td>\n",
       "      <td>...</td>\n",
       "      <td>...</td>\n",
       "      <td>...</td>\n",
       "      <td>...</td>\n",
       "      <td>...</td>\n",
       "      <td>...</td>\n",
       "      <td>...</td>\n",
       "      <td>...</td>\n",
       "      <td>...</td>\n",
       "      <td>...</td>\n",
       "      <td>...</td>\n",
       "      <td>...</td>\n",
       "      <td>...</td>\n",
       "      <td>...</td>\n",
       "    </tr>\n",
       "    <tr>\n",
       "      <th>6806400</th>\n",
       "      <td>0</td>\n",
       "      <td>0</td>\n",
       "      <td>0</td>\n",
       "      <td>0</td>\n",
       "      <td>0</td>\n",
       "      <td>0</td>\n",
       "      <td>0</td>\n",
       "      <td>0</td>\n",
       "      <td>0</td>\n",
       "      <td>0</td>\n",
       "      <td>...</td>\n",
       "      <td>0</td>\n",
       "      <td>0</td>\n",
       "      <td>0</td>\n",
       "      <td>0</td>\n",
       "      <td>0</td>\n",
       "      <td>0</td>\n",
       "      <td>0</td>\n",
       "      <td>0</td>\n",
       "      <td>0</td>\n",
       "      <td>0</td>\n",
       "    </tr>\n",
       "    <tr>\n",
       "      <th>6808800</th>\n",
       "      <td>0</td>\n",
       "      <td>0</td>\n",
       "      <td>0</td>\n",
       "      <td>0</td>\n",
       "      <td>0</td>\n",
       "      <td>0</td>\n",
       "      <td>0</td>\n",
       "      <td>0</td>\n",
       "      <td>0</td>\n",
       "      <td>0</td>\n",
       "      <td>...</td>\n",
       "      <td>0</td>\n",
       "      <td>0</td>\n",
       "      <td>0</td>\n",
       "      <td>0</td>\n",
       "      <td>0</td>\n",
       "      <td>0</td>\n",
       "      <td>0</td>\n",
       "      <td>0</td>\n",
       "      <td>0</td>\n",
       "      <td>0</td>\n",
       "    </tr>\n",
       "    <tr>\n",
       "      <th>6809800</th>\n",
       "      <td>0</td>\n",
       "      <td>0</td>\n",
       "      <td>0</td>\n",
       "      <td>0</td>\n",
       "      <td>0</td>\n",
       "      <td>0</td>\n",
       "      <td>0</td>\n",
       "      <td>0</td>\n",
       "      <td>0</td>\n",
       "      <td>0</td>\n",
       "      <td>...</td>\n",
       "      <td>0</td>\n",
       "      <td>0</td>\n",
       "      <td>0</td>\n",
       "      <td>0</td>\n",
       "      <td>0</td>\n",
       "      <td>0</td>\n",
       "      <td>0</td>\n",
       "      <td>0</td>\n",
       "      <td>0</td>\n",
       "      <td>0</td>\n",
       "    </tr>\n",
       "    <tr>\n",
       "      <th>6810700</th>\n",
       "      <td>0</td>\n",
       "      <td>0</td>\n",
       "      <td>0</td>\n",
       "      <td>0</td>\n",
       "      <td>0</td>\n",
       "      <td>0</td>\n",
       "      <td>0</td>\n",
       "      <td>0</td>\n",
       "      <td>0</td>\n",
       "      <td>0</td>\n",
       "      <td>...</td>\n",
       "      <td>0</td>\n",
       "      <td>0</td>\n",
       "      <td>0</td>\n",
       "      <td>0</td>\n",
       "      <td>0</td>\n",
       "      <td>0</td>\n",
       "      <td>0</td>\n",
       "      <td>0</td>\n",
       "      <td>0</td>\n",
       "      <td>0</td>\n",
       "    </tr>\n",
       "    <tr>\n",
       "      <th>6811600</th>\n",
       "      <td>0</td>\n",
       "      <td>0</td>\n",
       "      <td>0</td>\n",
       "      <td>0</td>\n",
       "      <td>0</td>\n",
       "      <td>0</td>\n",
       "      <td>0</td>\n",
       "      <td>0</td>\n",
       "      <td>0</td>\n",
       "      <td>0</td>\n",
       "      <td>...</td>\n",
       "      <td>0</td>\n",
       "      <td>0</td>\n",
       "      <td>0</td>\n",
       "      <td>0</td>\n",
       "      <td>0</td>\n",
       "      <td>0</td>\n",
       "      <td>0</td>\n",
       "      <td>0</td>\n",
       "      <td>0</td>\n",
       "      <td>0</td>\n",
       "    </tr>\n",
       "  </tbody>\n",
       "</table>\n",
       "<p>3498 rows × 9484 columns</p>\n",
       "</div>"
      ],
      "text/plain": [
       "product_id  35082     74176     124385    140705    216216    431392    \\\n",
       "basket_id                                                                \n",
       "51964              0         0         0         0         0         0   \n",
       "51965              0         0         0         0         0         0   \n",
       "51966              0         0         0         0         0         0   \n",
       "51967              0         0         0         0         0         0   \n",
       "51968              0         0         0         0         0         0   \n",
       "...              ...       ...       ...       ...       ...       ...   \n",
       "6806400            0         0         0         0         0         0   \n",
       "6808800            0         0         0         0         0         0   \n",
       "6809800            0         0         0         0         0         0   \n",
       "6810700            0         0         0         0         0         0   \n",
       "6811600            0         0         0         0         0         0   \n",
       "\n",
       "product_id  522435    714433    721164    777857    ...  18005913  18006037  \\\n",
       "basket_id                                           ...                       \n",
       "51964              0         0         0         0  ...         0         0   \n",
       "51965              0         0         0         0  ...         0         0   \n",
       "51966              0         0         0         0  ...         0         0   \n",
       "51967              0         0         0         0  ...         0         0   \n",
       "51968              0         0         0         0  ...         0         0   \n",
       "...              ...       ...       ...       ...  ...       ...       ...   \n",
       "6806400            0         0         0         0  ...         0         0   \n",
       "6808800            0         0         0         0  ...         0         0   \n",
       "6809800            0         0         0         0  ...         0         0   \n",
       "6810700            0         0         0         0  ...         0         0   \n",
       "6811600            0         0         0         0  ...         0         0   \n",
       "\n",
       "product_id  18022633  18038459  18055202  18055205  18055532  18184230  \\\n",
       "basket_id                                                                \n",
       "51964              0         0         0         0         0         0   \n",
       "51965              0         0         0         0         0         0   \n",
       "51966              0         0         0         0         0         0   \n",
       "51967              0         0         0         0         0         0   \n",
       "51968              0         0         0         0         0         0   \n",
       "...              ...       ...       ...       ...       ...       ...   \n",
       "6806400            0         0         0         0         0         0   \n",
       "6808800            0         0         0         0         0         0   \n",
       "6809800            0         0         0         0         0         0   \n",
       "6810700            0         0         0         0         0         0   \n",
       "6811600            0         0         0         0         0         0   \n",
       "\n",
       "product_id  18185306  18203921  \n",
       "basket_id                       \n",
       "51964              0         0  \n",
       "51965              0         0  \n",
       "51966              0         0  \n",
       "51967              0         0  \n",
       "51968              0         0  \n",
       "...              ...       ...  \n",
       "6806400            0         0  \n",
       "6808800            0         0  \n",
       "6809800            0         0  \n",
       "6810700            0         0  \n",
       "6811600            0         0  \n",
       "\n",
       "[3498 rows x 9484 columns]"
      ]
     },
     "execution_count": 76,
     "metadata": {},
     "output_type": "execute_result"
    }
   ],
   "source": [
    "basket"
   ]
  },
  {
   "cell_type": "markdown",
   "metadata": {},
   "source": [
    "Minimum support is set to 0.03 as setting the threshold too high will return nothing."
   ]
  },
  {
   "cell_type": "code",
   "execution_count": 97,
   "metadata": {},
   "outputs": [
    {
     "name": "stderr",
     "output_type": "stream",
     "text": [
      "c:\\Users\\playe\\miniconda3\\lib\\site-packages\\mlxtend\\frequent_patterns\\fpcommon.py:109: DeprecationWarning:\n",
      "\n",
      "DataFrames with non-bool types result in worse computationalperformance and their support might be discontinued in the future.Please use a DataFrame with bool type\n",
      "\n"
     ]
    }
   ],
   "source": [
    "frequent_itemsets = apriori(basket, min_support = 0.03, use_colnames = True)"
   ]
  },
  {
   "cell_type": "markdown",
   "metadata": {},
   "source": [
    "What presents here is essentially the frequency of an item showing up in an order."
   ]
  },
  {
   "cell_type": "code",
   "execution_count": 92,
   "metadata": {},
   "outputs": [
    {
     "data": {
      "text/html": [
       "<div>\n",
       "<style scoped>\n",
       "    .dataframe tbody tr th:only-of-type {\n",
       "        vertical-align: middle;\n",
       "    }\n",
       "\n",
       "    .dataframe tbody tr th {\n",
       "        vertical-align: top;\n",
       "    }\n",
       "\n",
       "    .dataframe thead th {\n",
       "        text-align: right;\n",
       "    }\n",
       "</style>\n",
       "<table border=\"1\" class=\"dataframe\">\n",
       "  <thead>\n",
       "    <tr style=\"text-align: right;\">\n",
       "      <th></th>\n",
       "      <th>support</th>\n",
       "      <th>itemsets</th>\n",
       "    </tr>\n",
       "  </thead>\n",
       "  <tbody>\n",
       "    <tr>\n",
       "      <th>0</th>\n",
       "      <td>0.033448</td>\n",
       "      <td>(820165)</td>\n",
       "    </tr>\n",
       "    <tr>\n",
       "      <th>1</th>\n",
       "      <td>0.011435</td>\n",
       "      <td>(823704)</td>\n",
       "    </tr>\n",
       "    <tr>\n",
       "      <th>2</th>\n",
       "      <td>0.046598</td>\n",
       "      <td>(824005)</td>\n",
       "    </tr>\n",
       "    <tr>\n",
       "      <th>3</th>\n",
       "      <td>0.011149</td>\n",
       "      <td>(824180)</td>\n",
       "    </tr>\n",
       "    <tr>\n",
       "      <th>4</th>\n",
       "      <td>0.014866</td>\n",
       "      <td>(824813)</td>\n",
       "    </tr>\n",
       "  </tbody>\n",
       "</table>\n",
       "</div>"
      ],
      "text/plain": [
       "    support  itemsets\n",
       "0  0.033448  (820165)\n",
       "1  0.011435  (823704)\n",
       "2  0.046598  (824005)\n",
       "3  0.011149  (824180)\n",
       "4  0.014866  (824813)"
      ]
     },
     "execution_count": 92,
     "metadata": {},
     "output_type": "execute_result"
    }
   ],
   "source": [
    "frequent_itemsets.head()"
   ]
  },
  {
   "cell_type": "markdown",
   "metadata": {},
   "source": [
    "The threshold here refers to the minimum value **lift** can take. If two items are bought independently then lift will be 1, so it is apparent the lift will at least be 1 for a recommendation engine to be useful."
   ]
  },
  {
   "cell_type": "code",
   "execution_count": 102,
   "metadata": {},
   "outputs": [
    {
     "data": {
      "text/plain": [
       "(18, 10)"
      ]
     },
     "execution_count": 102,
     "metadata": {},
     "output_type": "execute_result"
    }
   ],
   "source": [
    "rules = association_rules(frequent_itemsets, metric = \"lift\", min_threshold = 1)\n",
    "rules.shape"
   ]
  },
  {
   "cell_type": "markdown",
   "metadata": {},
   "source": [
    "So here are list of items (consequents) that should be recommended when the other one (antecedents) has been put in the basket using arbitrary thresholds set by us."
   ]
  },
  {
   "cell_type": "code",
   "execution_count": 105,
   "metadata": {},
   "outputs": [
    {
     "data": {
      "text/html": [
       "<div>\n",
       "<style scoped>\n",
       "    .dataframe tbody tr th:only-of-type {\n",
       "        vertical-align: middle;\n",
       "    }\n",
       "\n",
       "    .dataframe tbody tr th {\n",
       "        vertical-align: top;\n",
       "    }\n",
       "\n",
       "    .dataframe thead th {\n",
       "        text-align: right;\n",
       "    }\n",
       "</style>\n",
       "<table border=\"1\" class=\"dataframe\">\n",
       "  <thead>\n",
       "    <tr style=\"text-align: right;\">\n",
       "      <th></th>\n",
       "      <th>antecedents</th>\n",
       "      <th>consequents</th>\n",
       "      <th>antecedent support</th>\n",
       "      <th>consequent support</th>\n",
       "      <th>support</th>\n",
       "      <th>confidence</th>\n",
       "      <th>lift</th>\n",
       "      <th>leverage</th>\n",
       "      <th>conviction</th>\n",
       "      <th>zhangs_metric</th>\n",
       "    </tr>\n",
       "  </thead>\n",
       "  <tbody>\n",
       "    <tr>\n",
       "      <th>0</th>\n",
       "      <td>(1082185)</td>\n",
       "      <td>(844179)</td>\n",
       "      <td>0.394225</td>\n",
       "      <td>0.074900</td>\n",
       "      <td>0.034019</td>\n",
       "      <td>0.086294</td>\n",
       "      <td>1.152129</td>\n",
       "      <td>0.004492</td>\n",
       "      <td>1.012471</td>\n",
       "      <td>0.217972</td>\n",
       "    </tr>\n",
       "    <tr>\n",
       "      <th>1</th>\n",
       "      <td>(844179)</td>\n",
       "      <td>(1082185)</td>\n",
       "      <td>0.074900</td>\n",
       "      <td>0.394225</td>\n",
       "      <td>0.034019</td>\n",
       "      <td>0.454198</td>\n",
       "      <td>1.152129</td>\n",
       "      <td>0.004492</td>\n",
       "      <td>1.109881</td>\n",
       "      <td>0.142732</td>\n",
       "    </tr>\n",
       "    <tr>\n",
       "      <th>11</th>\n",
       "      <td>(995242)</td>\n",
       "      <td>(1082185)</td>\n",
       "      <td>0.072613</td>\n",
       "      <td>0.394225</td>\n",
       "      <td>0.031732</td>\n",
       "      <td>0.437008</td>\n",
       "      <td>1.108523</td>\n",
       "      <td>0.003107</td>\n",
       "      <td>1.075991</td>\n",
       "      <td>0.105564</td>\n",
       "    </tr>\n",
       "    <tr>\n",
       "      <th>10</th>\n",
       "      <td>(1082185)</td>\n",
       "      <td>(995242)</td>\n",
       "      <td>0.394225</td>\n",
       "      <td>0.072613</td>\n",
       "      <td>0.031732</td>\n",
       "      <td>0.080493</td>\n",
       "      <td>1.108523</td>\n",
       "      <td>0.003107</td>\n",
       "      <td>1.008570</td>\n",
       "      <td>0.161609</td>\n",
       "    </tr>\n",
       "    <tr>\n",
       "      <th>8</th>\n",
       "      <td>(962568)</td>\n",
       "      <td>(1082185)</td>\n",
       "      <td>0.070326</td>\n",
       "      <td>0.394225</td>\n",
       "      <td>0.030589</td>\n",
       "      <td>0.434959</td>\n",
       "      <td>1.103327</td>\n",
       "      <td>0.002865</td>\n",
       "      <td>1.072091</td>\n",
       "      <td>0.100735</td>\n",
       "    </tr>\n",
       "    <tr>\n",
       "      <th>9</th>\n",
       "      <td>(1082185)</td>\n",
       "      <td>(962568)</td>\n",
       "      <td>0.394225</td>\n",
       "      <td>0.070326</td>\n",
       "      <td>0.030589</td>\n",
       "      <td>0.077592</td>\n",
       "      <td>1.103327</td>\n",
       "      <td>0.002865</td>\n",
       "      <td>1.007878</td>\n",
       "      <td>0.154596</td>\n",
       "    </tr>\n",
       "    <tr>\n",
       "      <th>4</th>\n",
       "      <td>(1082185)</td>\n",
       "      <td>(866227)</td>\n",
       "      <td>0.394225</td>\n",
       "      <td>0.108634</td>\n",
       "      <td>0.046884</td>\n",
       "      <td>0.118927</td>\n",
       "      <td>1.094752</td>\n",
       "      <td>0.004058</td>\n",
       "      <td>1.011683</td>\n",
       "      <td>0.142877</td>\n",
       "    </tr>\n",
       "    <tr>\n",
       "      <th>5</th>\n",
       "      <td>(866227)</td>\n",
       "      <td>(1082185)</td>\n",
       "      <td>0.108634</td>\n",
       "      <td>0.394225</td>\n",
       "      <td>0.046884</td>\n",
       "      <td>0.431579</td>\n",
       "      <td>1.094752</td>\n",
       "      <td>0.004058</td>\n",
       "      <td>1.065715</td>\n",
       "      <td>0.097099</td>\n",
       "    </tr>\n",
       "    <tr>\n",
       "      <th>14</th>\n",
       "      <td>(1082185)</td>\n",
       "      <td>(1044078)</td>\n",
       "      <td>0.394225</td>\n",
       "      <td>0.072327</td>\n",
       "      <td>0.030875</td>\n",
       "      <td>0.078318</td>\n",
       "      <td>1.082826</td>\n",
       "      <td>0.002362</td>\n",
       "      <td>1.006500</td>\n",
       "      <td>0.126269</td>\n",
       "    </tr>\n",
       "    <tr>\n",
       "      <th>15</th>\n",
       "      <td>(1044078)</td>\n",
       "      <td>(1082185)</td>\n",
       "      <td>0.072327</td>\n",
       "      <td>0.394225</td>\n",
       "      <td>0.030875</td>\n",
       "      <td>0.426877</td>\n",
       "      <td>1.082826</td>\n",
       "      <td>0.002362</td>\n",
       "      <td>1.056972</td>\n",
       "      <td>0.082454</td>\n",
       "    </tr>\n",
       "    <tr>\n",
       "      <th>6</th>\n",
       "      <td>(1082185)</td>\n",
       "      <td>(961554)</td>\n",
       "      <td>0.394225</td>\n",
       "      <td>0.085477</td>\n",
       "      <td>0.036021</td>\n",
       "      <td>0.091371</td>\n",
       "      <td>1.068944</td>\n",
       "      <td>0.002323</td>\n",
       "      <td>1.006486</td>\n",
       "      <td>0.106471</td>\n",
       "    </tr>\n",
       "    <tr>\n",
       "      <th>7</th>\n",
       "      <td>(961554)</td>\n",
       "      <td>(1082185)</td>\n",
       "      <td>0.085477</td>\n",
       "      <td>0.394225</td>\n",
       "      <td>0.036021</td>\n",
       "      <td>0.421405</td>\n",
       "      <td>1.068944</td>\n",
       "      <td>0.002323</td>\n",
       "      <td>1.046975</td>\n",
       "      <td>0.070526</td>\n",
       "    </tr>\n",
       "    <tr>\n",
       "      <th>16</th>\n",
       "      <td>(1082185)</td>\n",
       "      <td>(1127831)</td>\n",
       "      <td>0.394225</td>\n",
       "      <td>0.076615</td>\n",
       "      <td>0.031447</td>\n",
       "      <td>0.079768</td>\n",
       "      <td>1.041150</td>\n",
       "      <td>0.001243</td>\n",
       "      <td>1.003426</td>\n",
       "      <td>0.065245</td>\n",
       "    </tr>\n",
       "    <tr>\n",
       "      <th>17</th>\n",
       "      <td>(1127831)</td>\n",
       "      <td>(1082185)</td>\n",
       "      <td>0.076615</td>\n",
       "      <td>0.394225</td>\n",
       "      <td>0.031447</td>\n",
       "      <td>0.410448</td>\n",
       "      <td>1.041150</td>\n",
       "      <td>0.001243</td>\n",
       "      <td>1.027517</td>\n",
       "      <td>0.042803</td>\n",
       "    </tr>\n",
       "    <tr>\n",
       "      <th>3</th>\n",
       "      <td>(866211)</td>\n",
       "      <td>(1082185)</td>\n",
       "      <td>0.081475</td>\n",
       "      <td>0.394225</td>\n",
       "      <td>0.033162</td>\n",
       "      <td>0.407018</td>\n",
       "      <td>1.032449</td>\n",
       "      <td>0.001042</td>\n",
       "      <td>1.021573</td>\n",
       "      <td>0.034217</td>\n",
       "    </tr>\n",
       "    <tr>\n",
       "      <th>2</th>\n",
       "      <td>(1082185)</td>\n",
       "      <td>(866211)</td>\n",
       "      <td>0.394225</td>\n",
       "      <td>0.081475</td>\n",
       "      <td>0.033162</td>\n",
       "      <td>0.084119</td>\n",
       "      <td>1.032449</td>\n",
       "      <td>0.001042</td>\n",
       "      <td>1.002887</td>\n",
       "      <td>0.051883</td>\n",
       "    </tr>\n",
       "    <tr>\n",
       "      <th>12</th>\n",
       "      <td>(1082185)</td>\n",
       "      <td>(995785)</td>\n",
       "      <td>0.394225</td>\n",
       "      <td>0.086621</td>\n",
       "      <td>0.034591</td>\n",
       "      <td>0.087745</td>\n",
       "      <td>1.012974</td>\n",
       "      <td>0.000443</td>\n",
       "      <td>1.001232</td>\n",
       "      <td>0.021143</td>\n",
       "    </tr>\n",
       "    <tr>\n",
       "      <th>13</th>\n",
       "      <td>(995785)</td>\n",
       "      <td>(1082185)</td>\n",
       "      <td>0.086621</td>\n",
       "      <td>0.394225</td>\n",
       "      <td>0.034591</td>\n",
       "      <td>0.399340</td>\n",
       "      <td>1.012974</td>\n",
       "      <td>0.000443</td>\n",
       "      <td>1.008515</td>\n",
       "      <td>0.014022</td>\n",
       "    </tr>\n",
       "  </tbody>\n",
       "</table>\n",
       "</div>"
      ],
      "text/plain": [
       "   antecedents consequents  antecedent support  consequent support   support  \\\n",
       "0    (1082185)    (844179)            0.394225            0.074900  0.034019   \n",
       "1     (844179)   (1082185)            0.074900            0.394225  0.034019   \n",
       "11    (995242)   (1082185)            0.072613            0.394225  0.031732   \n",
       "10   (1082185)    (995242)            0.394225            0.072613  0.031732   \n",
       "8     (962568)   (1082185)            0.070326            0.394225  0.030589   \n",
       "9    (1082185)    (962568)            0.394225            0.070326  0.030589   \n",
       "4    (1082185)    (866227)            0.394225            0.108634  0.046884   \n",
       "5     (866227)   (1082185)            0.108634            0.394225  0.046884   \n",
       "14   (1082185)   (1044078)            0.394225            0.072327  0.030875   \n",
       "15   (1044078)   (1082185)            0.072327            0.394225  0.030875   \n",
       "6    (1082185)    (961554)            0.394225            0.085477  0.036021   \n",
       "7     (961554)   (1082185)            0.085477            0.394225  0.036021   \n",
       "16   (1082185)   (1127831)            0.394225            0.076615  0.031447   \n",
       "17   (1127831)   (1082185)            0.076615            0.394225  0.031447   \n",
       "3     (866211)   (1082185)            0.081475            0.394225  0.033162   \n",
       "2    (1082185)    (866211)            0.394225            0.081475  0.033162   \n",
       "12   (1082185)    (995785)            0.394225            0.086621  0.034591   \n",
       "13    (995785)   (1082185)            0.086621            0.394225  0.034591   \n",
       "\n",
       "    confidence      lift  leverage  conviction  zhangs_metric  \n",
       "0     0.086294  1.152129  0.004492    1.012471       0.217972  \n",
       "1     0.454198  1.152129  0.004492    1.109881       0.142732  \n",
       "11    0.437008  1.108523  0.003107    1.075991       0.105564  \n",
       "10    0.080493  1.108523  0.003107    1.008570       0.161609  \n",
       "8     0.434959  1.103327  0.002865    1.072091       0.100735  \n",
       "9     0.077592  1.103327  0.002865    1.007878       0.154596  \n",
       "4     0.118927  1.094752  0.004058    1.011683       0.142877  \n",
       "5     0.431579  1.094752  0.004058    1.065715       0.097099  \n",
       "14    0.078318  1.082826  0.002362    1.006500       0.126269  \n",
       "15    0.426877  1.082826  0.002362    1.056972       0.082454  \n",
       "6     0.091371  1.068944  0.002323    1.006486       0.106471  \n",
       "7     0.421405  1.068944  0.002323    1.046975       0.070526  \n",
       "16    0.079768  1.041150  0.001243    1.003426       0.065245  \n",
       "17    0.410448  1.041150  0.001243    1.027517       0.042803  \n",
       "3     0.407018  1.032449  0.001042    1.021573       0.034217  \n",
       "2     0.084119  1.032449  0.001042    1.002887       0.051883  \n",
       "12    0.087745  1.012974  0.000443    1.001232       0.021143  \n",
       "13    0.399340  1.012974  0.000443    1.008515       0.014022  "
      ]
     },
     "execution_count": 105,
     "metadata": {},
     "output_type": "execute_result"
    }
   ],
   "source": [
    "rules.sort_values(\"lift\", ascending = False)"
   ]
  }
 ],
 "metadata": {
  "kernelspec": {
   "display_name": "base",
   "language": "python",
   "name": "python3"
  },
  "language_info": {
   "codemirror_mode": {
    "name": "ipython",
    "version": 3
   },
   "file_extension": ".py",
   "mimetype": "text/x-python",
   "name": "python",
   "nbconvert_exporter": "python",
   "pygments_lexer": "ipython3",
   "version": "3.10.12"
  },
  "orig_nbformat": 4
 },
 "nbformat": 4,
 "nbformat_minor": 2
}
